{
 "cells": [
  {
   "cell_type": "code",
   "execution_count": 1,
   "metadata": {},
   "outputs": [],
   "source": [
    "import numpy as np"
   ]
  },
  {
   "cell_type": "code",
   "execution_count": 2,
   "metadata": {},
   "outputs": [],
   "source": [
    "from pymongo import MongoClient"
   ]
  },
  {
   "cell_type": "code",
   "execution_count": 3,
   "metadata": {},
   "outputs": [],
   "source": [
    "client = MongoClient()\n",
    "db = client.cmv\n",
    "posts_collection = db.posts\n",
    "tl_comments_collection = db.tl_comments\n",
    "deltad_replies_collection = db.deltad_replies"
   ]
  },
  {
   "cell_type": "code",
   "execution_count": 7,
   "metadata": {},
   "outputs": [],
   "source": [
    "deltad_post_gen = posts_collection.find( {'tl_comment_delta_parents': {\"$exists\": True}})\n",
    "undeltad_post_gen = posts_collection.find( {'tl_comment_delta_parents': {\"$exists\": False}})"
   ]
  },
  {
   "cell_type": "code",
   "execution_count": 8,
   "metadata": {},
   "outputs": [],
   "source": [
    "deltad_post_list = list(deltad_post_gen)\n",
    "undeltad_post_list = list(undeltad_post_gen)"
   ]
  },
  {
   "cell_type": "code",
   "execution_count": 9,
   "metadata": {},
   "outputs": [
    {
     "name": "stdout",
     "output_type": "stream",
     "text": [
      "1146\n",
      "5370\n"
     ]
    }
   ],
   "source": [
    "print(len(deltad_post_list))\n",
    "print(len(undeltad_post_list))"
   ]
  },
  {
   "cell_type": "code",
   "execution_count": null,
   "metadata": {},
   "outputs": [],
   "source": [
    "deltad_tl_comment_gen =\n",
    "undeltad_tl_comment_gen = "
   ]
  },
  {
   "cell_type": "code",
   "execution_count": 10,
   "metadata": {},
   "outputs": [],
   "source": [
    "#train test split\n",
    "test_split_d = int(0.2*len(deltad_post_list))\n",
    "test_split_u = int(0.2*len(undeltad_post_list))\n",
    "\n",
    "np.random.shuffle(deltad_post_list)\n",
    "np.random.shuffle(undeltad_post_list)\n",
    "\n",
    "test_posts = deltad_post_list[0:test_split_d]\n",
    "test_posts.extend(undeltad_post_list[0:test_split_u])\n",
    "\n",
    "train_posts= deltad_post_list[test_split_d::]\n",
    "train_posts.extend(undeltad_post_list[test_split_u::])"
   ]
  },
  {
   "cell_type": "code",
   "execution_count": 11,
   "metadata": {},
   "outputs": [
    {
     "data": {
      "text/plain": [
       "int"
      ]
     },
     "execution_count": 11,
     "metadata": {},
     "output_type": "execute_result"
    }
   ],
   "source": [
    "type(test_split_d-1)"
   ]
  },
  {
   "cell_type": "code",
   "execution_count": 13,
   "metadata": {},
   "outputs": [],
   "source": [
    "test_post_labels = [1]*(test_split_d)\n",
    "test_post_labels.extend(([0]*(test_split_u)))\n",
    "test_post_labels = np.array(test_post_labels)"
   ]
  },
  {
   "cell_type": "code",
   "execution_count": 14,
   "metadata": {},
   "outputs": [],
   "source": [
    "num_train_d = len(deltad_post_list) - test_split_d\n",
    "num_train_u = len(undeltad_post_list) - test_split_u\n",
    "\n",
    "train_post_labels = [1]*num_train_d\n",
    "train_post_labels.extend([0]*(num_train_u))\n",
    "\n",
    "train_post_labels = np.array(train_post_labels)"
   ]
  },
  {
   "cell_type": "code",
   "execution_count": 15,
   "metadata": {},
   "outputs": [
    {
     "data": {
      "text/plain": [
       "(5213,)"
      ]
     },
     "execution_count": 15,
     "metadata": {},
     "output_type": "execute_result"
    }
   ],
   "source": [
    "train_post_labels.shape"
   ]
  },
  {
   "cell_type": "code",
   "execution_count": 17,
   "metadata": {},
   "outputs": [
    {
     "data": {
      "text/plain": [
       "5213"
      ]
     },
     "execution_count": 17,
     "metadata": {},
     "output_type": "execute_result"
    }
   ],
   "source": [
    "len(train_posts)"
   ]
  },
  {
   "cell_type": "code",
   "execution_count": 18,
   "metadata": {},
   "outputs": [
    {
     "data": {
      "text/plain": [
       "1303"
      ]
     },
     "execution_count": 18,
     "metadata": {},
     "output_type": "execute_result"
    }
   ],
   "source": [
    "len(test_posts)"
   ]
  },
  {
   "cell_type": "code",
   "execution_count": 19,
   "metadata": {},
   "outputs": [],
   "source": [
    "train_post_texts = [doc['post_text'] for doc in train_posts]\n",
    "test_post_texts = [doc['post_text'] for doc in test_posts]"
   ]
  },
  {
   "cell_type": "code",
   "execution_count": 20,
   "metadata": {},
   "outputs": [],
   "source": [
    "from nltk.stem import PorterStemmer\n",
    "from nltk.corpus import stopwords\n",
    "from nltk.tokenize import WhitespaceTokenizer\n",
    "from sklearn.feature_extraction.text import CountVectorizer\n",
    "import string"
   ]
  },
  {
   "cell_type": "code",
   "execution_count": 21,
   "metadata": {},
   "outputs": [
    {
     "name": "stdout",
     "output_type": "stream",
     "text": [
      "['a', 'b', 'c', 'd']\n"
     ]
    }
   ],
   "source": [
    "alist = ['a', 'b']\n",
    "blist = ['c', 'd']\n",
    "alist.extend(blist)\n",
    "print(alist)"
   ]
  },
  {
   "cell_type": "code",
   "execution_count": 22,
   "metadata": {},
   "outputs": [],
   "source": [
    "def clean_text(posts, tokenizer, stemmer):\n",
    "    stemmer_inst = stemmer()\n",
    "    tokenizer_inst = tokenizer()\n",
    "    cleaned_posts = []\n",
    "    for post in posts:\n",
    "        #cleaned_words = []\n",
    "        \n",
    "        #strip punctuation and digits from whole post\n",
    "        to_replace = [punc for punc in string.punctuation+string.digits]\n",
    "        replacement_table = str.maketrans({key: None for key in to_replace})\n",
    "        stripped_post = post.translate(replacement_table)\n",
    "        \n",
    "        #lower case post\n",
    "        lowered_post = stripped_post.lower()\n",
    "        cleaned_posts.append(lowered_post)\n",
    "        #tokenized_post = tokenizer_inst.tokenize(stripped_post) \n",
    "        #for word in tokenized_post:\n",
    "            #low_word = stemmer_inst.stem(word.lower())\n",
    "            #cleaned_words.append(low_word)\n",
    "            #remove stopwords?\n",
    "            #if low_word not in stopwords:\n",
    "            #    cleaned_words.append(low_word)\n",
    "        # cleaned_posts.append(' '.join(cleaned_words))\n",
    "    return cleaned_posts"
   ]
  },
  {
   "cell_type": "code",
   "execution_count": 23,
   "metadata": {},
   "outputs": [],
   "source": [
    "stemmer = PorterStemmer\n",
    "tokenizer = WhitespaceTokenizer"
   ]
  },
  {
   "cell_type": "code",
   "execution_count": 24,
   "metadata": {},
   "outputs": [],
   "source": [
    "cleaned_train_posts = clean_text(train_post_texts, tokenizer, stemmer)\n",
    "cleaned_test_posts = clean_text(test_post_texts, tokenizer, stemmer)"
   ]
  },
  {
   "cell_type": "code",
   "execution_count": 47,
   "metadata": {},
   "outputs": [],
   "source": [
    "my_vectorizer = CountVectorizer(max_df=0.9, min_df=1,\n",
    "                                max_features=1000,\n",
    "                                stop_words='english')"
   ]
  },
  {
   "cell_type": "code",
   "execution_count": 48,
   "metadata": {},
   "outputs": [],
   "source": [
    "vectorized_train_posts = my_vectorizer.fit_transform(cleaned_train_posts)\n",
    "vectorized_test_posts = my_vectorizer.fit_transform(cleaned_test_posts)"
   ]
  },
  {
   "cell_type": "markdown",
   "metadata": {},
   "source": [
    "## Unsupervised Topic Extraction"
   ]
  },
  {
   "cell_type": "code",
   "execution_count": 27,
   "metadata": {},
   "outputs": [],
   "source": [
    "from sklearn.decomposition import TruncatedSVD"
   ]
  },
  {
   "cell_type": "code",
   "execution_count": 92,
   "metadata": {},
   "outputs": [],
   "source": [
    "lsa_model = TruncatedSVD(n_components=150, random_state=40)"
   ]
  },
  {
   "cell_type": "code",
   "execution_count": 93,
   "metadata": {},
   "outputs": [
    {
     "data": {
      "text/plain": [
       "TruncatedSVD(algorithm='randomized', n_components=150, n_iter=5,\n",
       "       random_state=40, tol=0.0)"
      ]
     },
     "execution_count": 93,
     "metadata": {},
     "output_type": "execute_result"
    }
   ],
   "source": [
    "lsa_model.fit(vectorized_train_posts)"
   ]
  },
  {
   "cell_type": "code",
   "execution_count": 94,
   "metadata": {},
   "outputs": [],
   "source": [
    "reduced_train_posts = lsa_model.transform(vectorized_train_posts)\n",
    "reduced_test_posts = lsa_model.transform(vectorized_test_posts)"
   ]
  },
  {
   "cell_type": "code",
   "execution_count": 95,
   "metadata": {},
   "outputs": [
    {
     "name": "stdout",
     "output_type": "stream",
     "text": [
      "\n",
      "Topic  0\n",
      "parents, level, thoughts, jobs, drugs, immigration, love, wasnt, took, wear, benefits, parts, killing, thought, voter, responses, running, got, racist, changing\n",
      "\n",
      "Topic  1\n",
      "type, vs, level, color, rule, immigration, wont, drugs, history, took, original, jobs, end, thoughts, start, car, wear, english, changing, positions\n",
      "\n",
      "Topic  2\n",
      "type, vs, parents, color, rule, start, end, english, original, history, car, wins, wall, wanted, great, positions, standing, care, planet, regardless\n",
      "\n",
      "Topic  3\n",
      "wont, mean, wins, gay, seen, type, blame, won, color, main, sense, parents, mainly, push, situations, figure, rule, vs, english, votes\n",
      "\n",
      "Topic  4\n",
      "gun, great, benefits, responses, parts, seen, let, love, votes, mind, argue, value, guns, situations, standing, start, later, nation, responsibility, idea\n",
      "\n",
      "Topic  5\n",
      "thoughts, parts, seen, responses, yes, gun, push, type, sense, consequences, vs, votes, trump, benefits, guns, months, driving, voter, color, critical\n",
      "\n",
      "Topic  6\n",
      "thoughts, parts, yes, responses, level, red, driving, took, worth, reddit, thought, dont, type, got, unless, couple, low, increased, love, discussion\n",
      "\n",
      "Topic  7\n",
      "vs, start, english, standing, wanted, original, wall, want, parts, immigration, car, end, coming, enjoy, rule, wins, gay, care, obvious, option\n",
      "\n",
      "Topic  8\n",
      "wins, level, blame, jobs, place, gun, rule, english, parts, public, start, provide, seen, push, currently, color, powerful, votes, purpose, critical\n",
      "\n",
      "Topic  9\n",
      "gay, type, immigration, seen, red, parts, parents, benefits, trump, reddit, sense, im, figure, took, main, liberal, example, role, killing, worth\n",
      "\n",
      "Topic  10\n",
      "level, gun, wont, jobs, parents, vs, guns, welfare, asking, mean, game, start, ban, english, red, original, nature, games, responses, realize\n",
      "\n",
      "Topic  11\n",
      "red, reddit, let, benefits, worth, immigration, wont, changing, god, idea, voter, hold, kid, believe, drugs, false, gun, situations, decided, favor\n",
      "\n",
      "Topic  12\n",
      "seen, thoughts, red, drugs, push, reddit, rule, benefits, sense, strategy, color, worth, currently, english, took, choose, hold, wins, consequences, situations\n",
      "\n",
      "Topic  13\n",
      "great, gay, level, immigration, thoughts, taxes, benefits, planet, situation, popular, im, team, increased, main, feeling, situations, education, voter, create, court\n",
      "\n",
      "Topic  14\n",
      "let, rule, level, choice, drugs, english, color, idea, great, start, wasnt, choose, abortion, responses, andor, opportunity, immigration, responsibility, lines, wins\n",
      "\n",
      "Topic  15\n",
      "rule, immigration, thoughts, gun, color, english, gay, game, guns, obvious, argue, asking, welfare, took, increased, games, working, war, nature, start\n",
      "\n",
      "Topic  16\n",
      "level, strategy, gay, gun, vs, sake, feels, type, coming, effects, working, wasnt, immigration, guns, took, love, key, value, sanders, welfare\n",
      "\n",
      "Topic  17\n",
      "drugs, parts, value, changing, voter, game, mind, love, increased, argue, doubt, place, running, discussion, deal, rape, minority, rule, level, games\n",
      "\n",
      "Topic  18\n",
      "red, drugs, parts, reddit, taxes, yes, gun, increased, hold, asking, jobs, love, god, immigration, mind, coming, vs, nation, got, killing\n",
      "\n",
      "Topic  19\n",
      "benefits, voter, mind, changing, got, wins, love, level, running, coming, wear, mother, strategy, gun, paid, effects, rule, war, thought, racist\n",
      "\n",
      "Topic  20\n",
      "gay, jobs, drugs, benefits, main, strategy, im, situations, figure, thoughts, coming, build, trump, effects, nation, idea, let, minority, andor, type\n",
      "\n",
      "Topic  21\n",
      "increased, thoughts, immigration, argue, discussion, taxes, voter, running, value, deal, prejudice, vs, andor, minority, weight, worth, place, situations, idea, let\n",
      "\n",
      "Topic  22\n",
      "voter, changing, place, rule, red, blame, strategy, color, sake, wasnt, reddit, later, took, drugs, problems, better, history, great, effects, effective\n",
      "\n",
      "Topic  23\n",
      "great, value, strategy, benefits, running, argue, problems, parts, wins, wont, game, sake, effects, coming, start, drugs, type, killing, sanders, usa\n",
      "\n",
      "Topic  24\n",
      "took, benefits, increased, parts, drugs, worth, create, prejudice, discussion, deal, court, weight, mother, changing, young, working, growth, true, treatment, choose\n",
      "\n",
      "Topic  25\n",
      "got, drugs, responses, wins, situations, working, strategy, value, popular, create, true, problems, rule, nation, bad, wear, minority, seen, freedom, situation\n",
      "\n",
      "Topic  26\n",
      "wins, took, mind, responses, realize, voter, political, argue, changing, increased, planet, situation, choice, choose, gun, vs, taxes, seen, jobs, study\n",
      "\n",
      "Topic  27\n",
      "benefits, took, value, place, killing, got, blame, difficult, mind, thoughts, war, working, seen, original, mother, realize, thought, great, mention, wear\n",
      "\n",
      "Topic  28\n",
      "responses, got, push, blame, yes, drugs, game, immigration, minority, let, responsibility, benefits, increased, level, abortion, months, effective, type, coming, realize\n",
      "\n",
      "Topic  29\n",
      "got, great, parts, minority, gay, choose, biggest, bad, opportunity, thinking, thought, changing, situations, racist, gun, asking, choice, mind, watching, took\n",
      "\n",
      "Topic  30\n",
      "let, taxes, changing, strategy, benefits, parts, going, andor, history, increased, better, idea, great, value, drugs, nation, wear, red, team, original\n",
      "\n",
      "Topic  31\n",
      "love, let, war, start, mention, standing, voter, took, positions, hurt, coming, argue, thoughts, wins, later, working, job, ive, parts, entirely\n",
      "\n",
      "Topic  32\n",
      "love, killing, worth, liberal, thought, yes, information, sense, start, responses, push, mean, currently, deal, great, prejudice, increased, asking, trump, false\n",
      "\n",
      "Topic  33\n",
      "got, wasnt, taxes, start, thought, seen, standing, false, responses, voter, killing, wins, coming, value, wear, phone, yes, type, running, hurt\n",
      "\n",
      "Topic  34\n",
      "great, working, running, doubt, war, wear, blame, mention, responses, discussion, false, thought, changing, prejudice, love, seen, increased, fail, protest, dont\n",
      "\n",
      "Topic  35\n",
      "positions, hurt, mind, running, push, nature, later, young, choose, choice, standing, currently, end, going, thought, responses, consent, false, youll, yes\n",
      "\n",
      "Topic  36\n",
      "positions, got, hurt, increased, value, wasnt, love, jobs, place, end, consent, biggest, choose, deal, later, history, benefits, original, immigration, better\n",
      "\n",
      "Topic  37\n",
      "push, working, situations, war, asking, critical, mention, nature, nation, thought, great, type, place, false, immigration, value, original, vs, example, currently\n",
      "\n",
      "Topic  38\n",
      "choose, war, blame, jobs, liberal, mention, killing, level, nature, nation, information, mass, forced, value, type, andor, benefits, parts, voter, minority\n",
      "\n",
      "Topic  39\n",
      "killing, dont, positions, blame, push, currently, hurt, feels, racist, value, rule, taxes, voter, history, great, usa, phone, choice, amendment, male\n",
      "\n",
      "Topic  40\n",
      "mind, blame, start, prejudice, let, type, deal, working, planet, english, currently, voter, gun, users, protest, discussion, massive, insurance, standing, issues\n",
      "\n",
      "Topic  41\n",
      "killing, false, mind, let, information, war, planet, minority, history, responses, mention, example, ill, wasnt, know, positions, game, worth, jobs, basic\n",
      "\n",
      "Topic  42\n",
      "asking, wear, let, original, welfare, war, supporters, taxes, actively, abortion, problems, ago, youll, mention, effective, ban, liberal, planet, kid, watching\n",
      "\n",
      "Topic  43\n",
      "wear, killing, hurt, positions, situations, minority, later, situation, feels, protest, taxes, phone, israel, standing, end, realize, place, sense, minutes, fuck\n",
      "\n",
      "Topic  44\n",
      "freedom, true, realize, maintain, thought, love, let, value, blame, political, false, parts, nature, nation, information, continue, effect, choice, specific, actually\n",
      "\n",
      "Topic  45\n",
      "thought, situation, original, asking, feels, going, argue, later, phone, lose, freedom, coming, welfare, cause, wasnt, regardless, seen, blame, ago, mass\n",
      "\n",
      "Topic  46\n",
      "nation, situations, andor, asking, mass, positions, wasnt, great, color, hurt, welfare, mother, took, americans, love, minority, problems, immigration, prejudice, sense\n",
      "\n",
      "Topic  47\n",
      "wasnt, taxes, blame, working, running, argue, mother, love, currently, team, nature, color, situations, sense, situation, changing, lack, english, standing, questions\n",
      "\n",
      "Topic  48\n",
      "voter, seen, place, nature, lose, dont, love, racist, feels, original, hurt, welfare, receive, watching, positions, working, planet, benefits, yes, maintain\n",
      "\n",
      "Topic  49\n",
      "wear, feels, value, watching, easily, easier, situations, vs, blame, love, currently, seen, let, color, young, argue, later, ago, voter, history\n",
      "\n",
      "Topic  50\n",
      "original, running, realize, mother, feels, love, false, political, choose, thought, game, islam, war, nation, regardless, mention, ill, place, currently, opportunity\n",
      "\n",
      "Topic  51\n",
      "thought, feels, took, worth, watching, taxes, false, idea, wasnt, war, hurt, minority, planet, mention, choice, positions, andor, love, votes, superior\n",
      "\n",
      "Topic  52\n",
      "took, abortion, love, start, standing, watching, killing, changing, thought, leave, actively, caused, prejudice, choice, working, situations, phone, dont, original, protest\n",
      "\n",
      "Topic  53\n",
      "working, argue, nation, place, thought, currently, create, feels, rule, later, vs, amendment, jobs, lack, job, taxes, planet, hard, death, head\n",
      "\n",
      "Topic  54\n",
      "feels, protest, prejudice, responses, nation, got, false, biggest, place, racist, problems, push, extreme, hard, ill, cause, running, medical, everybody, create\n",
      "\n",
      "Topic  55\n",
      "phone, yes, coming, argue, watching, wasnt, prejudice, mean, great, history, comes, political, protest, original, significant, big, benefits, usa, rich, worth\n",
      "\n",
      "Topic  56\n",
      "biggest, problems, create, sake, key, sanders, running, big, finally, protest, power, discussion, voter, mean, role, currently, place, cause, caused, hurt\n",
      "\n",
      "Topic  57\n",
      "situation, working, problems, issues, killing, planet, yes, sake, popular, mother, prejudice, racist, let, rule, mean, key, vs, choose, sanders, going\n",
      "\n",
      "Topic  58\n",
      "situation, popular, dont, currently, rule, phone, war, choose, color, mention, wear, asking, changing, planet, welfare, democrats, gender, finally, provide, massive\n",
      "\n",
      "Topic  59\n",
      "phone, going, minority, example, lose, dont, role, racist, working, gender, difficult, problems, finally, sense, key, wont, feels, false, yes, moment\n",
      "\n",
      "Topic  60\n",
      "prejudice, currently, lose, nation, protest, nature, create, racist, rule, changing, love, killing, significant, seen, discussion, cause, amendment, doubt, watching, looks\n",
      "\n",
      "Topic  61\n",
      "thought, situations, issues, coming, working, responsibility, rule, doubt, biggest, wasnt, moment, finally, effective, idea, planet, liberal, looks, andor, supporters, better\n",
      "\n",
      "Topic  62\n",
      "dont, false, finally, situations, choice, mean, ill, great, prejudice, moment, gender, example, mass, changing, coming, mother, big, hurt, strategy, positions\n",
      "\n",
      "Topic  63\n",
      "mother, thought, islam, color, biggest, protest, nature, responsibility, later, supporters, idea, feels, dont, abortion, morally, attacks, history, going, choice, killing\n",
      "\n",
      "Topic  64\n",
      "feels, nature, cause, issues, choice, cars, abortion, mainly, number, problems, idea, got, won, usa, planet, discussion, caused, history, young, youll\n",
      "\n",
      "Topic  65\n",
      "watching, thought, biggest, situations, wasnt, benefits, argue, finally, amendment, situation, kid, dont, nature, moment, andor, start, actively, list, english, big\n",
      "\n",
      "Topic  66\n",
      "lose, andor, mass, running, dont, voter, convince, example, standing, americans, color, currently, killing, original, history, took, argument, later, edit, easily\n",
      "\n",
      "Topic  67\n",
      "cause, voter, thought, running, cars, situation, problems, wont, big, gender, let, love, mass, nature, healthcare, working, basic, drugs, gun, votes\n",
      "\n",
      "Topic  68\n",
      "watching, currently, mother, sense, changing, yes, freedom, hurt, lose, supporters, biggest, original, let, islam, voter, maintain, minority, amendment, significant, information\n",
      "\n",
      "Topic  69\n",
      "thought, mother, dont, nature, phone, islam, cause, rape, issues, voter, cars, nation, let, false, market, low, attacks, immigrants, rule, standing\n",
      "\n",
      "Topic  70\n",
      "minority, thought, doubt, sense, protest, nature, hard, original, easier, minutes, everybody, young, role, choose, liberal, easily, running, going, coming, dont\n",
      "\n",
      "Topic  71\n",
      "nation, minority, effective, mean, running, finally, significant, views, racist, biggest, later, big, usa, moment, supporters, going, liberal, education, discussion, effects\n",
      "\n",
      "Topic  72\n",
      "phone, color, situation, nation, example, directly, planet, role, leave, instance, abortion, forced, decision, fat, caused, working, yes, kid, mainly, decided\n",
      "\n",
      "Topic  73\n",
      "popular, going, mean, cause, cars, mother, later, kid, problems, false, discussion, freedom, islam, original, racist, effective, information, gaming, fat, parts\n",
      "\n",
      "Topic  74\n",
      "lose, phone, going, effective, everybody, nature, receive, fuck, push, rape, votes, read, choose, strategy, type, responsibility, planet, significant, hurt, mean\n",
      "\n",
      "Topic  75\n",
      "popular, biggest, minority, racist, asking, changing, responses, public, realize, wont, nature, benefits, bad, freedom, actively, political, democrats, strategy, welfare, foreign\n",
      "\n",
      "Topic  76\n",
      "minority, issues, choice, thought, running, racist, working, cause, issue, everybody, wear, planet, abortion, standing, place, cars, push, mean, logic, political\n",
      "\n",
      "Topic  77\n",
      "actively, mean, nature, doubt, choose, rape, biggest, minority, history, example, let, mass, fail, zero, color, supporters, discussion, create, theyre, nation\n",
      "\n",
      "Topic  78\n",
      "responses, significant, young, rape, argument, worth, paid, able, issue, english, cause, lose, theyre, massive, racial, actively, obviously, issues, decisions, cars\n",
      "\n",
      "Topic  79\n",
      "role, difficult, situation, original, biggest, protest, amendment, worth, discussion, lose, issue, rule, effective, israel, prejudice, heres, coming, later, provide, youll\n",
      "\n",
      "Topic  80\n",
      "idea, false, situation, responsibility, freedom, racist, minority, took, doubt, male, worth, protest, ill, going, history, nature, big, easily, voter, type\n",
      "\n",
      "Topic  81\n",
      "lose, looks, minority, worth, continue, doubt, mainly, situation, responsibility, lines, won, think, zero, problems, heres, popular, currently, effective, receive, minutes\n",
      "\n",
      "Topic  82\n",
      "everybody, decisions, doubt, choose, later, racist, university, bad, history, currently, paid, exists, yes, young, continue, issue, color, gaming, moment, issues\n",
      "\n",
      "Topic  83\n",
      "effective, israel, situation, values, issues, bad, looks, thinking, abortion, comes, argument, dont, took, yes, issue, views, hurt, makes, court, list\n",
      "\n",
      "Topic  84\n",
      "problems, supporters, lose, extreme, usa, god, young, popular, phone, better, start, argue, list, decided, racist, votes, values, healthcare, lack, fail\n",
      "\n",
      "Topic  85\n",
      "later, supporters, doubt, young, wont, continue, everybody, purpose, false, push, phone, discussion, nation, youll, value, blame, gay, opportunity, key, sake\n",
      "\n",
      "Topic  86\n",
      "provide, choice, rape, mother, nation, strategy, youll, public, young, issues, lose, views, realize, sense, continue, purpose, votes, basic, situation, liberal\n",
      "\n",
      "Topic  87\n",
      "market, looks, youll, list, exists, minority, dont, watching, push, bad, freedom, problems, lines, easy, realize, head, fail, massive, hard, main\n",
      "\n",
      "Topic  88\n",
      "key, court, nation, easier, mean, supporters, easily, discussion, sake, create, changing, healthy, moment, killing, role, justice, issue, able, case, doubt\n",
      "\n",
      "Topic  89\n",
      "create, court, biggest, idea, cause, dont, cars, lose, going, minority, purpose, coming, color, public, god, effective, choose, running, mainly, prejudice\n",
      "\n",
      "Topic  90\n",
      "planet, rape, standing, going, figure, main, exists, bad, wont, taxes, choice, racist, decision, biggest, votes, work, thinking, currently, care, minority\n",
      "\n",
      "Topic  91\n",
      "role, high, think, idea, popular, issues, argument, got, list, currently, young, going, views, russia, living, market, basic, media, head, significant\n",
      "\n",
      "Topic  92\n",
      "supporters, fat, idea, fuck, receive, everybody, currently, recent, purpose, easy, zero, effective, lines, low, comes, example, guy, doesnt, issues, strategy\n",
      "\n",
      "Topic  93\n",
      "choice, young, usa, lack, role, looks, issues, effective, color, actively, gender, equality, mother, finally, hold, decisions, values, complete, changing, work\n",
      "\n",
      "Topic  94\n",
      "mother, abortion, argue, comes, popular, fuck, head, effects, effective, original, receive, rape, working, heres, exists, logic, moment, wont, gender, nature\n",
      "\n",
      "Topic  95\n",
      "standing, list, finally, voter, issue, israel, moment, freedom, decided, lines, currently, prejudice, theyre, makes, votes, dont, continue, wont, choose, greater\n",
      "\n",
      "Topic  96\n",
      "biggest, usa, everybody, massive, information, idea, israel, prejudice, racist, running, youll, paid, nature, focus, purpose, phone, necessarily, currently, gaming, games\n",
      "\n",
      "Topic  97\n",
      "rape, low, continue, key, massive, responsibility, issues, thought, running, information, sake, science, protest, amendment, watching, situation, able, children, questions, dont\n",
      "\n",
      "Topic  98\n",
      "purpose, worth, thinking, extreme, taxes, nature, isnt, actively, decided, caused, fuck, issues, big, bad, public, discussion, choice, provide, situations, argument\n",
      "\n",
      "Topic  99\n",
      "effects, bad, thinking, market, supporters, realize, fuck, mean, standing, job, campaign, nation, difficult, nature, recent, making, god, finally, rape, gaming\n",
      "\n",
      "Topic  100\n",
      "protest, moment, issues, responses, strategy, massive, court, end, feels, main, fail, children, figure, education, job, lose, finally, child, hard, death\n",
      "\n",
      "Topic  101\n",
      "standing, young, decided, mainly, extreme, able, isnt, lines, create, opportunity, key, provide, situation, male, prejudice, feels, information, fat, rule, kid\n",
      "\n",
      "Topic  102\n",
      "usa, thinking, lose, idea, everybody, decided, kid, liberal, massive, key, information, logic, comes, instance, zero, later, article, kill, running, necessarily\n",
      "\n",
      "Topic  103\n",
      "strategy, thinking, gaming, big, fuck, decided, youll, responsibility, problems, create, story, makes, standing, effective, list, campaign, increased, court, choice, amendment\n",
      "\n",
      "Topic  104\n",
      "massive, doubt, votes, continue, allows, fuck, lines, looks, mainly, idea, extreme, argument, voted, responses, critical, job, electoral, amendment, won, choice\n",
      "\n",
      "Topic  105\n",
      "issues, able, looks, basic, head, doubt, amendment, information, lines, lose, realize, god, big, opportunity, push, israel, create, fair, sports, science\n",
      "\n",
      "Topic  106\n",
      "lose, paid, phone, amendment, actively, idea, key, planet, later, allows, feels, decisions, effective, running, color, provide, currently, insurance, decision, power\n",
      "\n",
      "Topic  107\n",
      "usa, theyre, court, difficult, won, argument, paid, healthcare, youll, ill, healthy, planet, isnt, everybody, original, significant, growth, changing, mainly, couple\n",
      "\n",
      "Topic  108\n",
      "everybody, low, lower, looks, usa, continue, coming, public, provide, later, children, university, problems, issue, easily, learn, wall, watching, choice, statement\n",
      "\n",
      "Topic  109\n",
      "argument, think, isnt, theyre, continue, things, head, problems, increased, bad, extreme, supporters, forward, male, party, nature, turn, youll, push, weight\n",
      "\n",
      "Topic  110\n",
      "high, biggest, young, rule, rape, create, court, situation, comes, information, lose, basic, lower, death, coming, ill, war, false, abortion, guy\n",
      "\n",
      "Topic  111\n",
      "head, heres, actively, create, figure, children, lines, discussion, court, list, powerful, child, problems, freedom, main, moment, exists, coming, values, forced\n",
      "\n",
      "Topic  112\n",
      "choice, doubt, extreme, everybody, currently, values, rape, superior, given, god, effects, media, say, know, difficult, got, case, situation, role, policies\n",
      "\n",
      "Topic  113\n",
      "looks, opportunity, lack, case, exists, provide, key, difficult, caused, equality, heres, break, questions, low, decided, healthcare, children, issue, going, job\n",
      "\n",
      "Topic  114\n",
      "biggest, gaming, discussion, looks, head, paid, decisions, kid, male, problems, complete, realize, completely, groups, decided, able, im, original, start, sense\n",
      "\n",
      "Topic  115\n",
      "rape, political, idea, votes, mainly, doubt, provide, key, russia, lines, medical, major, head, example, able, god, decisions, end, mean, gaming\n",
      "\n",
      "Topic  116\n",
      "worth, effects, hold, greater, caused, changing, responsibility, difficult, ive, figure, lower, doubt, currently, market, later, mass, maintain, yes, work, foreign\n",
      "\n",
      "Topic  117\n",
      "effective, thinking, fail, ill, abortion, role, convince, work, groups, figure, lots, growth, specific, mass, mind, living, company, science, situations, actively\n",
      "\n",
      "Topic  118\n",
      "big, opportunity, male, argument, information, views, able, key, lots, protest, actively, thinking, isnt, create, theyre, greater, situations, given, positions, logic\n",
      "\n",
      "Topic  119\n",
      "phone, continue, usa, opportunity, lines, ill, logic, role, terms, bad, views, decisions, prejudice, guns, idea, high, fuck, figure, biggest, effects\n",
      "\n",
      "Topic  120\n",
      "big, liberal, mainly, information, gaming, standing, immigrants, work, lose, terms, impact, abortion, choose, actively, working, necessarily, negative, critical, low, watching\n",
      "\n",
      "Topic  121\n",
      "fail, maintain, nation, god, fair, systems, obviously, paid, complete, isnt, difficult, lack, comes, gaming, living, effects, understanding, choose, fuck, given\n",
      "\n",
      "Topic  122\n",
      "standing, living, figure, example, main, responsibility, realize, rule, supporters, arguing, usa, ones, views, crime, caused, allowing, head, theyre, isnt, list\n",
      "\n",
      "Topic  123\n",
      "rape, actively, opportunity, effects, fail, liberal, work, argument, freedom, looks, hard, votes, decided, hold, nature, kid, start, turn, yes, gender\n",
      "\n",
      "Topic  124\n",
      "mainly, won, effective, working, know, moment, push, convince, bad, prejudice, focus, able, list, think, away, freedom, key, car, significant, allows\n",
      "\n",
      "Topic  125\n",
      "bad, responsibility, actively, extreme, russia, coming, usa, games, push, away, lines, color, peoples, argue, purpose, case, able, rape, lower, everybody\n",
      "\n",
      "Topic  126\n",
      "looks, head, later, strategy, mainly, values, supporters, allows, big, logic, provide, theyre, heres, extreme, rape, powerful, decided, healthy, increased, russia\n",
      "\n",
      "Topic  127\n",
      "russia, big, standing, discussion, convince, choose, logic, phone, bad, freedom, massive, provide, hurt, effects, figure, example, sense, watch, prejudice, think\n",
      "\n",
      "Topic  128\n",
      "male, opportunity, votes, caused, currently, favor, exists, abortion, big, israel, usa, able, faith, provide, fail, later, sense, working, isnt, mean\n",
      "\n",
      "Topic  129\n",
      "god, figure, main, comes, strategy, story, opportunity, russia, information, paid, bad, currently, extreme, dont, young, problems, actively, decided, false, turn\n",
      "\n",
      "Topic  130\n",
      "mainly, lower, list, easy, voted, court, israel, standing, usa, makes, low, market, figure, isnt, conclusion, rape, identify, original, groups, english\n",
      "\n",
      "Topic  131\n",
      "death, key, issue, amendment, figure, abortion, say, main, gaming, market, forced, team, present, english, coming, equality, wall, media, information, lack\n",
      "\n",
      "Topic  132\n",
      "actively, usa, youll, standing, effects, number, weight, logic, yes, car, decision, working, im, thinking, provide, male, increased, age, consequences, able\n",
      "\n",
      "Topic  133\n",
      "key, argument, effects, votes, hard, list, ive, bad, specific, young, liberal, job, ill, zero, basic, foreign, actively, prejudice, don, allowing\n",
      "\n",
      "Topic  134\n",
      "god, effective, think, later, weight, start, car, opportunity, isnt, increased, lack, zero, want, extreme, massive, drive, everybody, enjoy, equality, key\n",
      "\n",
      "Topic  135\n",
      "games, voted, ive, low, isnt, media, heres, science, start, thought, values, education, living, obviously, said, logic, rape, lines, thinking, problems\n",
      "\n",
      "Topic  136\n",
      "team, paid, value, policies, argument, liberal, key, god, focus, creating, favor, guys, watching, forward, problems, legal, easy, insurance, decisions, role\n",
      "\n",
      "Topic  137\n",
      "wanted, opportunity, mainly, logic, growth, responsibility, comment, death, break, isnt, provide, questions, bad, paid, dont, bring, values, guys, game, lots\n",
      "\n",
      "Topic  138\n",
      "freedom, heres, critical, drive, able, think, forced, basic, watching, race, isnt, purpose, everybody, problems, nature, games, guys, sense, insurance, age\n",
      "\n",
      "Topic  139\n",
      "create, say, opportunity, theyre, issue, said, welfare, effective, low, english, allowing, blame, value, actively, drive, problems, sake, discussion, zero, questions\n",
      "\n",
      "Topic  140\n",
      "death, forced, looks, sake, game, massive, comes, maintain, focus, harm, don, easier, continue, easily, higher, convince, compared, certain, ill, god\n",
      "\n",
      "Topic  141\n",
      "directly, makes, voted, values, big, opportunity, turn, compared, zero, amendment, thinking, games, kid, abortion, heres, maintain, end, mass, law, lack\n",
      "\n",
      "Topic  142\n",
      "medical, ill, gaming, comes, values, information, logic, able, include, youll, low, forced, present, critical, decisions, conclusion, favor, choose, create, issues\n",
      "\n",
      "Topic  143\n",
      "market, sake, hard, higher, post, maintain, critical, death, superior, young, easy, race, things, lower, vs, children, include, choice, theyre, exists\n",
      "\n",
      "Topic  144\n",
      "comes, provide, able, thinking, team, environment, russia, superior, media, given, ill, continue, allows, makes, moral, drive, voted, highly, clinton, work\n",
      "\n",
      "Topic  145\n",
      "problems, clinton, west, think, media, argument, post, able, allowing, change, market, choose, rich, god, doubt, hold, lower, average, players, born\n",
      "\n",
      "Topic  146\n",
      "medical, heres, isnt, guys, mainly, teams, amendment, death, standing, complete, discussion, able, think, guy, team, fail, liberal, work, false, young\n",
      "\n",
      "Topic  147\n",
      "medical, issue, favor, decided, say, democrats, groups, mass, voted, turn, exists, immigrants, color, living, supporters, problems, questions, lines, growth, mental\n",
      "\n",
      "Topic  148\n",
      "wanted, gender, decided, responsibility, able, end, high, heres, exists, company, andor, information, rise, actively, medical, purpose, living, ignore, things, fat\n",
      "\n",
      "Topic  149\n",
      "company, extreme, lower, rise, team, ive, highly, healthy, west, greater, change, media, bad, science, standing, given, average, favor, theyre, abortion\n"
     ]
    }
   ],
   "source": [
    "def display_topics(model, feature_names, no_top_words, topic_names=None):\n",
    "    for ix, topic in enumerate(model.components_):\n",
    "        if not topic_names or not topic_names[ix]:\n",
    "            print(\"\\nTopic \", ix)\n",
    "        else:\n",
    "            print(\"\\nTopic: '\",topic_names[ix],\"'\")\n",
    "        print(\", \".join([feature_names[i]\n",
    "                        for i in topic.argsort()[:-no_top_words - 1:-1]]))\n",
    "display_topics(lsa_model,my_vectorizer.get_feature_names(),20) # We have to look at the topics before hand and then add the labels afterwards"
   ]
  },
  {
   "cell_type": "markdown",
   "metadata": {},
   "source": [
    "## Supervised Classification"
   ]
  },
  {
   "cell_type": "code",
   "execution_count": 96,
   "metadata": {},
   "outputs": [],
   "source": [
    "from sklearn.metrics import confusion_matrix, roc_auc_score"
   ]
  },
  {
   "cell_type": "code",
   "execution_count": 97,
   "metadata": {},
   "outputs": [],
   "source": [
    "from sklearn.svm import SVC"
   ]
  },
  {
   "cell_type": "code",
   "execution_count": 98,
   "metadata": {},
   "outputs": [
    {
     "data": {
      "text/plain": [
       "SVC(C=1.0, cache_size=200, class_weight='balanced', coef0=0.0,\n",
       "  decision_function_shape='ovr', degree=3, gamma='auto', kernel='rbf',\n",
       "  max_iter=-1, probability=False, random_state=42, shrinking=True,\n",
       "  tol=0.001, verbose=False)"
      ]
     },
     "execution_count": 98,
     "metadata": {},
     "output_type": "execute_result"
    }
   ],
   "source": [
    "svc_model = SVC(class_weight='balanced', random_state=42)\n",
    "svc_model.fit(reduced_train_posts, train_post_labels)"
   ]
  },
  {
   "cell_type": "code",
   "execution_count": 99,
   "metadata": {},
   "outputs": [
    {
     "name": "stdout",
     "output_type": "stream",
     "text": [
      "[[885 189]\n",
      " [199  30]]\n"
     ]
    }
   ],
   "source": [
    "predicted_test_labels = svc_model.predict(reduced_test_posts)\n",
    "conf_mat = confusion_matrix(test_post_labels, predicted_test_labels)\n",
    "print(conf_mat)"
   ]
  },
  {
   "cell_type": "code",
   "execution_count": 100,
   "metadata": {},
   "outputs": [
    {
     "name": "stdout",
     "output_type": "stream",
     "text": [
      "mean accuracy is 0.7022256331542595\n"
     ]
    }
   ],
   "source": [
    "print('mean accuracy is {}'.format(svc_model.score(reduced_test_posts, test_post_labels)))"
   ]
  },
  {
   "cell_type": "code",
   "execution_count": 76,
   "metadata": {},
   "outputs": [],
   "source": [
    "#from sklearn.cluster import DBSCAN"
   ]
  },
  {
   "cell_type": "code",
   "execution_count": 77,
   "metadata": {},
   "outputs": [],
   "source": [
    "#dbscan_model = DBSCAN(eps=0.5, min_samples=5, metric=’euclidean’, metric_params=None, algorithm=’auto’, leaf_size=30, p=None, n_jobs=1)"
   ]
  },
  {
   "cell_type": "code",
   "execution_count": 33,
   "metadata": {},
   "outputs": [],
   "source": [
    "#from sklearn.linear_model import LogisticRegression"
   ]
  },
  {
   "cell_type": "code",
   "execution_count": 34,
   "metadata": {},
   "outputs": [
    {
     "data": {
      "text/plain": [
       "LogisticRegression(C=1.0, class_weight='balanced', dual=False,\n",
       "          fit_intercept=True, intercept_scaling=1, max_iter=100,\n",
       "          multi_class='ovr', n_jobs=1, penalty='l2', random_state=42,\n",
       "          solver='liblinear', tol=0.0001, verbose=0, warm_start=False)"
      ]
     },
     "execution_count": 34,
     "metadata": {},
     "output_type": "execute_result"
    }
   ],
   "source": [
    "#logreg = LogisticRegression(random_state=42, class_weight='balanced')\n",
    "#logreg.fit(reduced_train_posts, train_post_labels)"
   ]
  },
  {
   "cell_type": "code",
   "execution_count": 35,
   "metadata": {},
   "outputs": [],
   "source": [
    "#predicted_test_labels = logreg.predict(reduced_test_posts)"
   ]
  },
  {
   "cell_type": "code",
   "execution_count": 38,
   "metadata": {},
   "outputs": [
    {
     "name": "stdout",
     "output_type": "stream",
     "text": [
      "mean accuracy is 0.6362240982348427\n",
      "[[787 287]\n",
      " [187  42]]\n"
     ]
    }
   ],
   "source": [
    "#print('mean accuracy is {}'.format(logreg.score(reduced_test_posts, test_post_labels)))\n",
    "#conf_mat = confusion_matrix(test_post_labels, predicted_test_labels)\n",
    "#print(conf_mat)"
   ]
  },
  {
   "cell_type": "code",
   "execution_count": null,
   "metadata": {},
   "outputs": [],
   "source": []
  }
 ],
 "metadata": {
  "kernelspec": {
   "display_name": "Python 3",
   "language": "python",
   "name": "python3"
  },
  "language_info": {
   "codemirror_mode": {
    "name": "ipython",
    "version": 3
   },
   "file_extension": ".py",
   "mimetype": "text/x-python",
   "name": "python",
   "nbconvert_exporter": "python",
   "pygments_lexer": "ipython3",
   "version": "3.6.6"
  }
 },
 "nbformat": 4,
 "nbformat_minor": 2
}
