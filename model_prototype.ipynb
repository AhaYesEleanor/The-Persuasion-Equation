{
 "cells": [
  {
   "cell_type": "code",
   "execution_count": 11,
   "metadata": {},
   "outputs": [],
   "source": [
    "import numpy as np"
   ]
  },
  {
   "cell_type": "code",
   "execution_count": 1,
   "metadata": {},
   "outputs": [],
   "source": [
    "from pymongo import MongoClient"
   ]
  },
  {
   "cell_type": "code",
   "execution_count": 2,
   "metadata": {},
   "outputs": [],
   "source": [
    "client = MongoClient()\n",
    "db = client.cmv\n",
    "posts_collection = db.posts\n",
    "tl_comments_collection = db.tl_comments\n",
    "deltad_replies_collection = db.deltad_replies"
   ]
  },
  {
   "cell_type": "code",
   "execution_count": 8,
   "metadata": {},
   "outputs": [],
   "source": [
    "deltad_post_gen = posts_collection.find( {'deltad_tl_comments': {\"$exists\": True}})\n",
    "undeltad_post_gen = posts_collection.find( {'deltad_tl_comments': {\"$exists\": False}})"
   ]
  },
  {
   "cell_type": "code",
   "execution_count": 9,
   "metadata": {},
   "outputs": [],
   "source": [
    "deltad_post_list = list(deltad_post_gen)\n",
    "undeltad_post_list = list(undeltad_post_gen)"
   ]
  },
  {
   "cell_type": "code",
   "execution_count": 10,
   "metadata": {},
   "outputs": [
    {
     "name": "stdout",
     "output_type": "stream",
     "text": [
      "1537\n",
      "7100\n"
     ]
    }
   ],
   "source": [
    "print(len(deltad_post_list))\n",
    "print(len(undeltad_post_list))"
   ]
  },
  {
   "cell_type": "code",
   "execution_count": 13,
   "metadata": {},
   "outputs": [],
   "source": [
    "np.random.shuffle(deltad_post_list)\n",
    "np.random.shuffle(undeltad_post_list)"
   ]
  },
  {
   "cell_type": "code",
   "execution_count": 17,
   "metadata": {},
   "outputs": [],
   "source": [
    "#train test split\n",
    "\n",
    "train_posts = []\n",
    "test_posts = []\n",
    "\n",
    "test_split_d = int(0.2*len(deltad_post_list))\n",
    "test_split_u = int(0.2*len(undeltad_post_list))\n",
    "\n",
    "test_posts.extend(deltad_post_list[0:test_split_d])\n",
    "test_posts.extend(undeltad_post_list[0:test_split_u])\n",
    "\n",
    "train_posts.extend(deltad_post_list[test_split_d::])\n",
    "train_posts.extend(undeltad_post_list[test_split_u::])"
   ]
  },
  {
   "cell_type": "code",
   "execution_count": 18,
   "metadata": {},
   "outputs": [
    {
     "data": {
      "text/plain": [
       "6910"
      ]
     },
     "execution_count": 18,
     "metadata": {},
     "output_type": "execute_result"
    }
   ],
   "source": [
    "len(train_posts)"
   ]
  },
  {
   "cell_type": "code",
   "execution_count": 19,
   "metadata": {},
   "outputs": [
    {
     "data": {
      "text/plain": [
       "1727"
      ]
     },
     "execution_count": 19,
     "metadata": {},
     "output_type": "execute_result"
    }
   ],
   "source": [
    "len(test_posts)"
   ]
  },
  {
   "cell_type": "code",
   "execution_count": 20,
   "metadata": {},
   "outputs": [],
   "source": [
    "train_post_texts = [doc['post_text'] for doc in train_posts]\n",
    "test_post_texts = [doc['post_text'] for doc in test_posts]"
   ]
  },
  {
   "cell_type": "code",
   "execution_count": 88,
   "metadata": {},
   "outputs": [],
   "source": [
    "from nltk.stem import PorterStemmer\n",
    "from nltk.corpus import stopwords\n",
    "from nltk.tokenize import WhitespaceTokenizer\n",
    "import string"
   ]
  },
  {
   "cell_type": "code",
   "execution_count": 76,
   "metadata": {},
   "outputs": [],
   "source": [
    "def strip_punctuation_digits(text):\n",
    "    to_replace = [punc for punc in string.punctuation+string.digits]\n",
    "    replacement_table = str.maketrans({key: None for key in to_replace})\n",
    "    stripped_text = text.translate(replacement_table)\n",
    "    return stripped_text\n",
    "                                             "
   ]
  },
  {
   "cell_type": "code",
   "execution_count": 72,
   "metadata": {},
   "outputs": [
    {
     "name": "stdout",
     "output_type": "stream",
     "text": [
      "['a', 'b', 'c', 'd']\n"
     ]
    }
   ],
   "source": [
    "alist = ['a', 'b']\n",
    "blist = ['c', 'd']\n",
    "alist.extend(blist)\n",
    "print(alist)"
   ]
  },
  {
   "cell_type": "code",
   "execution_count": 98,
   "metadata": {},
   "outputs": [],
   "source": [
    "def clean_text(posts, tokenizer, stemmer):\n",
    "    stemmer_inst = stemmer()\n",
    "    tokenizer_inst = tokenizer()\n",
    "    cleaned_posts = []\n",
    "    for post in posts:\n",
    "        cleaned_words = []\n",
    "        \n",
    "        #strip punctuation, digits and stopwords from whole post\n",
    "        stripped_post = strip_punctuation_digits(post)\n",
    "        tokenized_post = tokenizer_inst.tokenize(stripped_post)\n",
    "        \n",
    "        \n",
    "        for word in tokenized_post:\n",
    "            low_word = stemmer_inst.stem(word.lower())\n",
    "            cleaned_words.append(low_word)\n",
    "            #remove stopwords?\n",
    "            #if low_word not in stopwords:\n",
    "            #    cleaned_words.append(low_word)\n",
    "        cleaned_posts.append(' '.join(cleaned_words))\n",
    "    return cleaned_posts"
   ]
  },
  {
   "cell_type": "code",
   "execution_count": 74,
   "metadata": {},
   "outputs": [],
   "source": [
    "stemmer = PorterStemmer\n",
    "tokenizer = WhitespaceTokenizer"
   ]
  },
  {
   "cell_type": "code",
   "execution_count": null,
   "metadata": {},
   "outputs": [],
   "source": []
  },
  {
   "cell_type": "code",
   "execution_count": 99,
   "metadata": {},
   "outputs": [],
   "source": [
    "cleaned_train_posts = clean_text(train_post_texts[0:5], tokenizer, stemmer)"
   ]
  },
  {
   "cell_type": "code",
   "execution_count": 100,
   "metadata": {},
   "outputs": [
    {
     "data": {
      "text/plain": [
       "['im an antisjw libertarian but i run an instagram profil for my witchthem illustr given that libertarian tend to be logicori men and witch fan tend to be leftist women i often get follow i wish didnt even exist i tri includ libertarian in my bio but that didnt work onc i even post a parodi of witch where the witch held libertarian sign rather than leftist and an illiter appar sjw comment in approv it tempt to argu with these peopl or at least let them know they have the wrong idea about me but i feel like i should focu on the busi aspect of thing and shut up and bake the fuck cake also even though im not from north america or europ im paranoid about dox and such edit guy your suppos to convinc me that i should argu',\n",
       " 'warn lot of runon sentenc and opinion be state as fact lot of assumpt too im readi to be call out on those thing valu and the concept of moral and ethic are inform upon by environment factor dure childhood usual a person adopt the valu of their peer and roll model note that i didnt say it come exclus from parent sometim in adulthood signific emot event can caus somebodi to reconsid their fundament valu howev that is in respons to trauma and not the standard behavior of peopl in other word valu can chang they can be differ for differ peopl in one cultur and especi for differ cultur howev moral and valu are not hardcod into our brain from birth to be specif xyz hand down by a dieti from a magic realm to be specif xyz for the better of human let me be clear that im not tri to debat thi and your argument would have to be pretti damn good to even have a shot at chang my view about that so let move on to the bigger disciss about my view i believ that although cultur are differ from one anoth they share certain properi if they are stabl for exampl there at least some valu that are share across everyon in that cultur these valu are typic the kind of valu that encourag peopl to work togeth to not randomli kill one anoth etc thi ensur that peopl do not destroy the entir system there are societ contract so to speak that peopl in that cultur follow and it understood that the entir thing depend on these valu and rule but these rule didnt form due to human design they come about becaus the cultur that peopl that had these valu and work togeth under these rule have outliv the peopl that didnt it basic natur select if a societi of peopl all thought kill each other wa cool then theyd all kill each other then theyd be gone that whi you never seen a societi like that of cours you see societi of peopl work togeth becaus that pretti effect for maintain surviv no societi or cultur ha perfect valu id say of cours we sometim see a societi punish peopl becaus of thing like dishonor and disrespect come heavili into play i think you could probabl trace those thing to some sort of evolutionari advantag but on a case by case basi you probabl can find lot of exampl of peopl suffer becaus of these thing with no net gain for the surviv of the peopl in societi so to the meat and potato of my view i am be rather optimist here im say that with deep understand of how valu form and how they influenc decis make sophist design and engineering could take place to build from the ground up a societi that intent to illimin the suffer of peopl as much as possibl regardless of ani of the circumst of the person life mental ill and physic diseas would be approach in a way kinda similar to what they are now but moral right and wrong would be handl veri differ from what we see today all concept of right and wrong would realli have to prescrib by the design of thi societi again be optimist but here an analog we evolv to enjoy certain tast to enjoy thing that we need to eat to keep our bodi fuel with energi howev a resteraunt with michelin star could produc a food that ha been veri specif design to delight the sens and the amount of pleasuregener awesom of that meal is a great exampl of take advantag of what natur gave us let assum research would be capabl of design a societi that take full advantag of our valu system the way a chef take advantag of our drive for food sinc hose valu have power over how we physiolog and emot respond to our observ in the world and how we decid to act they could be leverag to get the veri most amount of peopl enjoy themselv whilst bahav in way that promot thing we need like good health a sustain but larg popul etc such a system could never be put into place and will never be put into place even though it ha the promis of a better life for everyon no matter what the specif are there would be a huge amount of peopl who alreadi have well establish valu that conflict with the new engin valu tri to convert someon to a new valu system is pretti much straight up oppress and regardless of intent would caus a lot of suffer for peopl we cannot ignor the fact that there are so mani peopl with so mani strongli held belief we cannot deni that those peopl suffer when they wit thing that go against their strongli held belief a lot of peopl valu system incorper the belief that their own person valu are the more right one a lot of peopl moral compass would tell them that engineeringdesign a definit set of moral belif would be moral wrong but you also cant argu with the fact that peopl are suffer almost everywher constantli at least as far as the western societi i live in there is a prevail belief that peopl need to look out for themselv leav behind those in need and focu on career and financi secur we have a societi that look down on peopl who have less resourc and believ in retribut that guy deserv to be punish when those valu are rather archaic and probabl no longer necessari now that we can determin better way of react to destruct behavior that actual address the problem more archiac concept includ undi loyal maintain famili honor chose side etc in summari there are peopl suffer around the globe often at the hand of other peopl in mani case a cultur valu are defin by natur select rather than purpos human engin some thing are out of our hand but there may be a much better arrang of the puzzl piec so to speak than what natur select ha given us but a prescript set of valu wouldnt allow for cultur divers',\n",
       " 'thing just never get seriou enough so let get real talk in here so my posit is that the shadow man or the voodoo man from disney the princess and the frog is the most frighten and evil villain in their rather impress repertoir hi shadow can manipul real world solid object what to stop it from grab a knife and just go all norman bate hi friend on the other side are fulli capabl and happi to do so of screw your life right up and if you make a deal yourself like dr facili then theyll drag you straight to hell if you pisd them off while that isnt him pers he got no qualm work with them know all thi up into be drug to hell which is tell about him he wa happi to hand the entir citi of new orlean over to these friend for littl more than money money hi feel arent hurt he jealou and lazi he more than will to hand over and hurt an entir commun plu a princ for money other bad guy were bad but kept it a littl more person so cmv who do you think wa a meaner meani or a scarier monster',\n",
       " 'okay so i realli want someon to chang my view on thi one basic i think our reason for eat meat product pig chicken cow etc lie on the premis that these anim are less intellig than human they have a limit capac to reason but if a human child is born with a sever mental impair low function autism for instanc that limit their intellig to say that of a pig should it be moral accept to kill and eat them at thi point what is the major differ between human and anim thi is a footnot from the cmv moder wed like to remind you of a coupl of thing firstli pleas read through our ruleshttpwwwredditcomrchangemyviewwikirul if you see a comment that ha broken one it is more effect to report it than downvot it speak of which downvot dont chang viewshttpwwwredditcomrchangemyviewwikiguidelineswikiupvotingfdownvot ani question or concern feel free to messag ushttpwwwredditcommessagecomposetorchangemyview happi cmving',\n",
       " 'everi time i hear about window on reddit it is alway in a neg tone no matter how minor the issu is there is peopl complain about it with a littl research it is gener found that thi issu exist in window as well it just a minor thing that isnt an issu whenev i hear about peopl complain about the autoupd they alway complain on the principl of it howev i feel as though if everyon on the same version of an oper system it is a lot easier to push patch to fix critic day issu reddit what is so bad about window thi is a footnot from the cmv moder wed like to remind you of a coupl of thing firstli pleas read through our ruleshttpwwwredditcomrchangemyviewwikirul if you see a comment that ha broken one it is more effect to report it than downvot it speak of which downvot dont chang viewshttpwwwredditcomrchangemyviewwikiguidelineswikiupvotingfdownvot ani question or concern feel free to messag ushttpwwwredditcommessagecomposetorchangemyview happi cmving']"
      ]
     },
     "execution_count": 100,
     "metadata": {},
     "output_type": "execute_result"
    }
   ],
   "source": [
    "cleaned_train_posts"
   ]
  },
  {
   "cell_type": "code",
   "execution_count": 40,
   "metadata": {},
   "outputs": [],
   "source": [
    "testy = \"\"\"\n",
    "Hi don't worry text! lots of punctuation, in this one'.\n",
    "and did you consider new lines?\n",
    ". best not    there we go!\n",
    "\"\"\" \n"
   ]
  },
  {
   "cell_type": "code",
   "execution_count": 28,
   "metadata": {},
   "outputs": [
    {
     "data": {
      "text/plain": [
       "'Hi dont worry text lots of punctuation in this one'"
      ]
     },
     "execution_count": 28,
     "metadata": {},
     "output_type": "execute_result"
    }
   ],
   "source": [
    "punctuation_replacement = str.maketrans({key: None for key in string.punctuation}) \n",
    "testy.translate(punctuation_replacement)\n"
   ]
  },
  {
   "cell_type": "code",
   "execution_count": 82,
   "metadata": {},
   "outputs": [],
   "source": [
    "testystrip = strip_punctuation_digits(testy)"
   ]
  },
  {
   "cell_type": "code",
   "execution_count": 85,
   "metadata": {},
   "outputs": [
    {
     "data": {
      "text/plain": [
       "'\\nHi dont worry text lots of punctuation in this one\\nand did you consider new lines\\n best not    there we go\\n'"
      ]
     },
     "execution_count": 85,
     "metadata": {},
     "output_type": "execute_result"
    }
   ],
   "source": [
    "testystrip"
   ]
  },
  {
   "cell_type": "code",
   "execution_count": 90,
   "metadata": {},
   "outputs": [
    {
     "data": {
      "text/plain": [
       "['Hi',\n",
       " 'dont',\n",
       " 'worry',\n",
       " 'text',\n",
       " 'lots',\n",
       " 'of',\n",
       " 'punctuation',\n",
       " 'in',\n",
       " 'this',\n",
       " 'one',\n",
       " 'and',\n",
       " 'did',\n",
       " 'you',\n",
       " 'consider',\n",
       " 'new',\n",
       " 'lines',\n",
       " 'best',\n",
       " 'not',\n",
       " 'there',\n",
       " 'we',\n",
       " 'go']"
      ]
     },
     "execution_count": 90,
     "metadata": {},
     "output_type": "execute_result"
    }
   ],
   "source": [
    "toky = WhitespaceTokenizer()\n",
    "toky.tokenize(text=testystrip)"
   ]
  },
  {
   "cell_type": "code",
   "execution_count": 87,
   "metadata": {},
   "outputs": [
    {
     "data": {
      "text/plain": [
       "['\\nHi',\n",
       " \"don't\",\n",
       " 'worry',\n",
       " 'text!',\n",
       " 'lots',\n",
       " 'of',\n",
       " 'punctuation,',\n",
       " 'in',\n",
       " 'this',\n",
       " \"one'.\\nand\",\n",
       " 'did',\n",
       " 'you',\n",
       " 'consider',\n",
       " 'new',\n",
       " 'lines?\\n.',\n",
       " 'best',\n",
       " 'not',\n",
       " '',\n",
       " '',\n",
       " '',\n",
       " 'there',\n",
       " 'we',\n",
       " 'go!\\n']"
      ]
     },
     "execution_count": 87,
     "metadata": {},
     "output_type": "execute_result"
    }
   ],
   "source": [
    "import re\n",
    "testy.split(' ')"
   ]
  },
  {
   "cell_type": "code",
   "execution_count": null,
   "metadata": {},
   "outputs": [],
   "source": []
  }
 ],
 "metadata": {
  "kernelspec": {
   "display_name": "Python 3",
   "language": "python",
   "name": "python3"
  },
  "language_info": {
   "codemirror_mode": {
    "name": "ipython",
    "version": 3
   },
   "file_extension": ".py",
   "mimetype": "text/x-python",
   "name": "python",
   "nbconvert_exporter": "python",
   "pygments_lexer": "ipython3",
   "version": "3.6.6"
  }
 },
 "nbformat": 4,
 "nbformat_minor": 2
}
