{
 "cells": [
  {
   "cell_type": "code",
   "execution_count": 117,
   "metadata": {},
   "outputs": [],
   "source": [
    "import numpy as np"
   ]
  },
  {
   "cell_type": "code",
   "execution_count": 118,
   "metadata": {},
   "outputs": [],
   "source": [
    "from pymongo import MongoClient"
   ]
  },
  {
   "cell_type": "code",
   "execution_count": 119,
   "metadata": {},
   "outputs": [],
   "source": [
    "client = MongoClient()\n",
    "db = client.cmv\n",
    "posts_collection = db.posts\n",
    "tl_comments_collection = db.tl_comments\n",
    "deltad_replies_collection = db.deltad_replies"
   ]
  },
  {
   "cell_type": "code",
   "execution_count": 120,
   "metadata": {},
   "outputs": [
    {
     "name": "stdout",
     "output_type": "stream",
     "text": [
      "1146\n",
      "5370\n"
     ]
    }
   ],
   "source": [
    "# getting posts with and without deltas awarded\n",
    "deltad_post_gen = posts_collection.find( {'tl_comment_delta_parents': {\"$exists\": True}})\n",
    "undeltad_post_gen = posts_collection.find( {'tl_comment_delta_parents': {\"$exists\": False}})\n",
    "deltad_post_list = list(deltad_post_gen)\n",
    "undeltad_post_list = list(undeltad_post_gen)\n",
    "print(len(deltad_post_list))\n",
    "print(len(undeltad_post_list))"
   ]
  },
  {
   "cell_type": "code",
   "execution_count": 121,
   "metadata": {},
   "outputs": [],
   "source": [
    "# get ids of Top Level Comments that resulted in deltas AND list of all TL Comment IDs for posts where some delta was awarded by OP\n",
    "deltad_tl_comment_ids = [post['tl_comment_delta_parents'] for post in deltad_post_list]\n",
    "all_tl_comment_ids = [post['comment_ids'] for post in deltad_post_list]\n",
    "\n",
    "# flatten lists of lists\n",
    "deltad_tl_comment_ids = [item for sublist in deltad_tl_comment_ids for item in sublist]\n",
    "all_tl_comment_ids = [item for sublist in all_tl_comment_ids for item in sublist]\n",
    "\n",
    "# get ids of TL Comments that did not result in deltas from posts where OP did award deltas\n",
    "undeltad_tl_comment_ids = list(set(all_tl_comment_ids) - set(deltad_tl_comment_ids))\n"
   ]
  },
  {
   "cell_type": "code",
   "execution_count": 122,
   "metadata": {},
   "outputs": [],
   "source": [
    "# retrieve TL comments resulting in deltas by id\n",
    "deltad_tl_comment_gen = tl_comments_collection.find( {'comment_id': {\"$in\": deltad_tl_comment_ids}})\n",
    "# retrieve TL comments NOT resulting in deltas\n",
    "undeltad_tl_comment_gen = tl_comments_collection.find( {'comment_id': {\"$in\": undeltad_tl_comment_ids}})"
   ]
  },
  {
   "cell_type": "code",
   "execution_count": 123,
   "metadata": {},
   "outputs": [
    {
     "name": "stdout",
     "output_type": "stream",
     "text": [
      "1955\n",
      "13601\n"
     ]
    }
   ],
   "source": [
    "deltad_tl_comments = list(deltad_tl_comment_gen)\n",
    "undeltad_tl_comments = list(undeltad_tl_comment_gen)\n",
    "print(len(deltad_tl_comments))\n",
    "print(len(undeltad_tl_comments))"
   ]
  },
  {
   "cell_type": "code",
   "execution_count": 124,
   "metadata": {},
   "outputs": [],
   "source": [
    "# establish the set of texts to use (ie posts vs comments)\n",
    "doctype = 'comment'\n",
    "\n",
    "if doctype == 'comment':\n",
    "    deltad_docs = deltad_tl_comments\n",
    "    undeltad_docs = undeltad_tl_comments\n",
    "    \n",
    "elif doctype == 'post':\n",
    "    deltad_docs = deltad_post_list\n",
    "    undeltad_docs = undeltad_post_list"
   ]
  },
  {
   "cell_type": "code",
   "execution_count": 131,
   "metadata": {},
   "outputs": [],
   "source": [
    "#train test split\n",
    "test_split_d = int(0.2*len(deltad_docs))\n",
    "test_split_u = int(0.2*len(undeltad_docs))\n",
    "\n",
    "np.random.shuffle(deltad_docs)\n",
    "np.random.shuffle(undeltad_docs)\n",
    "\n",
    "test_docs = deltad_docs[0:test_split_d]\n",
    "test_docs.extend(undeltad_docs[0:test_split_u])\n",
    "\n",
    "train_docs= deltad_docs[test_split_d::]\n",
    "train_docs.extend(undeltad_docs[test_split_u::])"
   ]
  },
  {
   "cell_type": "code",
   "execution_count": 132,
   "metadata": {},
   "outputs": [
    {
     "data": {
      "text/plain": [
       "int"
      ]
     },
     "execution_count": 132,
     "metadata": {},
     "output_type": "execute_result"
    }
   ],
   "source": [
    "type(test_split_d-1)"
   ]
  },
  {
   "cell_type": "code",
   "execution_count": 133,
   "metadata": {},
   "outputs": [],
   "source": [
    "test_doc_labels = [1]*(test_split_d)\n",
    "test_doc_labels.extend(([0]*(test_split_u)))\n",
    "test_doc_labels = np.array(test_doc_labels)"
   ]
  },
  {
   "cell_type": "code",
   "execution_count": 134,
   "metadata": {},
   "outputs": [],
   "source": [
    "num_train_d = len(deltad_docs) - test_split_d\n",
    "num_train_u = len(undeltad_docs) - test_split_u\n",
    "\n",
    "train_doc_labels = [1]*num_train_d\n",
    "train_doc_labels.extend([0]*(num_train_u))\n",
    "\n",
    "train_doc_labels = np.array(train_doc_labels)"
   ]
  },
  {
   "cell_type": "code",
   "execution_count": 190,
   "metadata": {},
   "outputs": [
    {
     "data": {
      "text/plain": [
       "6.957161125319693"
      ]
     },
     "execution_count": 190,
     "metadata": {},
     "output_type": "execute_result"
    }
   ],
   "source": [
    "num_train_u/num_train_d"
   ]
  },
  {
   "cell_type": "code",
   "execution_count": 135,
   "metadata": {},
   "outputs": [
    {
     "data": {
      "text/plain": [
       "(12445,)"
      ]
     },
     "execution_count": 135,
     "metadata": {},
     "output_type": "execute_result"
    }
   ],
   "source": [
    "train_doc_labels.shape"
   ]
  },
  {
   "cell_type": "code",
   "execution_count": 136,
   "metadata": {},
   "outputs": [
    {
     "data": {
      "text/plain": [
       "12445"
      ]
     },
     "execution_count": 136,
     "metadata": {},
     "output_type": "execute_result"
    }
   ],
   "source": [
    "len(train_docs)"
   ]
  },
  {
   "cell_type": "code",
   "execution_count": 137,
   "metadata": {},
   "outputs": [
    {
     "data": {
      "text/plain": [
       "3111"
      ]
     },
     "execution_count": 137,
     "metadata": {},
     "output_type": "execute_result"
    }
   ],
   "source": [
    "len(test_docs)"
   ]
  },
  {
   "cell_type": "code",
   "execution_count": 138,
   "metadata": {},
   "outputs": [],
   "source": [
    "train_texts = [doc[f'{doctype}_text'] for doc in train_docs]\n",
    "test_texts = [doc[f'{doctype}_text'] for doc in test_docs]"
   ]
  },
  {
   "cell_type": "code",
   "execution_count": 139,
   "metadata": {},
   "outputs": [],
   "source": [
    "from nltk.stem import PorterStemmer\n",
    "from nltk.corpus import stopwords\n",
    "from nltk.tokenize import WhitespaceTokenizer\n",
    "from sklearn.feature_extraction.text import CountVectorizer\n",
    "import string"
   ]
  },
  {
   "cell_type": "code",
   "execution_count": 140,
   "metadata": {},
   "outputs": [
    {
     "name": "stdout",
     "output_type": "stream",
     "text": [
      "['a', 'b', 'c', 'd']\n"
     ]
    }
   ],
   "source": [
    "alist = ['a', 'b']\n",
    "blist = ['c', 'd']\n",
    "alist.extend(blist)\n",
    "print(alist)"
   ]
  },
  {
   "cell_type": "code",
   "execution_count": 141,
   "metadata": {},
   "outputs": [],
   "source": [
    "def clean_text(posts, tokenizer, stemmer):\n",
    "    stemmer_inst = stemmer()\n",
    "    tokenizer_inst = tokenizer()\n",
    "    cleaned_posts = []\n",
    "    for post in posts:\n",
    "        #cleaned_words = []\n",
    "        \n",
    "        #strip punctuation and digits from whole post\n",
    "        to_replace = [punc for punc in string.punctuation+string.digits]\n",
    "        replacement_table = str.maketrans({key: None for key in to_replace})\n",
    "        stripped_post = post.translate(replacement_table)\n",
    "        \n",
    "        #lower case post\n",
    "        lowered_post = stripped_post.lower()\n",
    "        cleaned_posts.append(lowered_post)\n",
    "        #tokenized_post = tokenizer_inst.tokenize(stripped_post) \n",
    "        #for word in tokenized_post:\n",
    "            #low_word = stemmer_inst.stem(word.lower())\n",
    "            #cleaned_words.append(low_word)\n",
    "            #remove stopwords?\n",
    "            #if low_word not in stopwords:\n",
    "            #    cleaned_words.append(low_word)\n",
    "        # cleaned_posts.append(' '.join(cleaned_words))\n",
    "    return cleaned_posts"
   ]
  },
  {
   "cell_type": "code",
   "execution_count": 142,
   "metadata": {},
   "outputs": [],
   "source": [
    "stemmer = PorterStemmer\n",
    "tokenizer = WhitespaceTokenizer"
   ]
  },
  {
   "cell_type": "code",
   "execution_count": 145,
   "metadata": {},
   "outputs": [],
   "source": [
    "cleaned_train_texts = clean_text(train_texts, tokenizer, stemmer)\n",
    "cleaned_test_texts = clean_text(test_texts, tokenizer, stemmer)"
   ]
  },
  {
   "cell_type": "code",
   "execution_count": 194,
   "metadata": {},
   "outputs": [],
   "source": [
    "my_vectorizer = CountVectorizer(max_df=0.8, min_df=5,\n",
    "                                max_features=1000,\n",
    "                                stop_words='english')"
   ]
  },
  {
   "cell_type": "code",
   "execution_count": 195,
   "metadata": {},
   "outputs": [],
   "source": [
    "vectorized_train_texts = my_vectorizer.fit_transform(cleaned_train_texts)\n",
    "vectorized_test_texts = my_vectorizer.fit_transform(cleaned_test_texts)"
   ]
  },
  {
   "cell_type": "markdown",
   "metadata": {},
   "source": [
    "## Unsupervised Topic Extraction"
   ]
  },
  {
   "cell_type": "code",
   "execution_count": 200,
   "metadata": {},
   "outputs": [],
   "source": [
    "def display_topics(model, feature_names, no_top_words, topic_names=None):\n",
    "    for ix, topic in enumerate(model.components_):\n",
    "        if not topic_names or not topic_names[ix]:\n",
    "            print(\"\\nTopic \", ix)\n",
    "        else:\n",
    "            print(\"\\nTopic: '\",topic_names[ix],\"'\")\n",
    "        print(\", \".join([feature_names[i]\n",
    "                        for i in topic.argsort()[:-no_top_words - 1:-1]]))"
   ]
  },
  {
   "cell_type": "code",
   "execution_count": 202,
   "metadata": {},
   "outputs": [],
   "source": [
    "from sklearn.decomposition import TruncatedSVD\n",
    "from sklearn.decomposition import LatentDirichletAllocation"
   ]
  },
  {
   "cell_type": "markdown",
   "metadata": {},
   "source": [
    "#### LSA"
   ]
  },
  {
   "cell_type": "code",
   "execution_count": 197,
   "metadata": {},
   "outputs": [],
   "source": [
    "lsa_model = TruncatedSVD(n_components=150, random_state=40)\n",
    "lsa_model.fit(vectorized_train_texts)"
   ]
  },
  {
   "cell_type": "code",
   "execution_count": 199,
   "metadata": {},
   "outputs": [],
   "source": [
    "lsa_train_texts = lsa_model.transform(vectorized_train_texts)\n",
    "lsa_test_texts = lsa_model.transform(vectorized_test_texts)"
   ]
  },
  {
   "cell_type": "code",
   "execution_count": 201,
   "metadata": {},
   "outputs": [
    {
     "name": "stdout",
     "output_type": "stream",
     "text": [
      "\n",
      "Topic  0\n",
      "paying, jobs, dont, level, theyve, main, way, want, theyre, thought, read, illegal, save, kind, goal, discussion, test, youve, global, period\n",
      "\n",
      "Topic  1\n",
      "paying, birth, willing, games, total, quality, game, got, putting, compared, identify, points, solve, question, happy, cut, ideas, politics, cultural, run\n",
      "\n",
      "Topic  2\n",
      "goes, minimum, true, vote, wage, military, talk, past, main, court, status, income, talking, work, economy, statement, parts, come, safety, poverty\n",
      "\n",
      "Topic  3\n",
      "true, vote, dont, come, level, hell, high, parts, theyve, pregnancy, came, policy, safety, end, voting, religious, illegal, remember, democrats, donald\n",
      "\n",
      "Topic  4\n",
      "level, jobs, future, gain, plan, paying, thought, arms, play, players, concept, goal, video, planet, tax, negative, fun, minimum, theres, work\n",
      "\n",
      "Topic  5\n",
      "games, womens, jobs, meant, total, wage, military, minimum, level, goes, talk, women, sex, identify, risk, majority, past, work, female, income\n",
      "\n",
      "Topic  6\n",
      "birth, willing, jobs, level, quality, child, true, lets, cut, americans, critical, points, status, yes, question, poverty, american, thought, did, animal\n",
      "\n",
      "Topic  7\n",
      "dont, birth, jobs, willing, kind, youve, wage, want, military, goes, quality, points, necessary, illegal, cut, past, scenario, favor, talk, americans\n",
      "\n",
      "Topic  8\n",
      "birth, theyve, future, willing, gain, minimum, womens, meant, wage, plan, military, cut, past, quality, play, players, talk, americans, true, concept\n",
      "\n",
      "Topic  9\n",
      "level, dont, goes, games, arms, theyre, way, work, program, birth, cut, feels, studies, quite, unless, ground, rich, willing, kind, convince\n",
      "\n",
      "Topic  10\n",
      "goes, future, gain, results, plan, theyve, statement, status, free, larger, rich, birth, feeling, way, unless, spend, solution, later, different, concept\n",
      "\n",
      "Topic  11\n",
      "dont, child, future, want, gain, vote, plan, thought, birth, children, games, superior, pain, federal, parts, players, harder, necessary, voting, capable\n",
      "\n",
      "Topic  12\n",
      "child, womens, goes, meant, level, jobs, children, theyve, rich, superior, federal, pain, results, larger, learning, gain, want, feeling, paying, later\n",
      "\n",
      "Topic  13\n",
      "womens, meant, thought, worry, theyre, yes, studies, main, housing, quite, bernie, kind, necessary, scenario, effect, students, relationship, war, lets, huge\n",
      "\n",
      "Topic  14\n",
      "period, main, free, womens, meant, minimum, want, goal, true, save, disagree, spend, results, minorities, happy, bad, quite, discussion, youve, future\n",
      "\n",
      "Topic  15\n",
      "lets, dont, housing, wage, military, games, jobs, minorities, huge, disagree, answer, true, abortion, birth, gain, results, willing, discussion, arms, maybe\n",
      "\n",
      "Topic  16\n",
      "lets, want, minimum, goes, results, global, illegal, youve, true, test, list, necessary, womens, theyve, ground, abortion, hell, housing, feels, games\n",
      "\n",
      "Topic  17\n",
      "period, goes, work, theyve, lets, thought, main, womens, want, vote, dont, status, jobs, meant, level, statement, lost, disagree, total, convince\n",
      "\n",
      "Topic  18\n",
      "main, true, free, goes, games, dont, hell, kind, goal, minimum, discussion, bad, war, americans, ultimately, disagree, spend, program, read, did\n",
      "\n",
      "Topic  19\n",
      "wage, period, military, thought, illegal, goes, true, kind, belief, ground, hell, want, worry, war, gain, test, larger, wages, plan, global\n",
      "\n",
      "Topic  20\n",
      "goal, goes, way, work, bernie, lets, theyre, bad, arms, lost, kind, worry, womens, theyll, benefits, read, youve, save, different, maybe\n",
      "\n",
      "Topic  21\n",
      "lets, minimum, period, studies, effect, gain, scenario, free, coming, true, climate, past, jobs, save, future, students, results, belief, different, illegal\n",
      "\n",
      "Topic  22\n",
      "illegal, global, necessary, test, ground, status, youve, statement, dont, price, period, housing, maybe, meant, answer, larger, group, future, poverty, plenty\n",
      "\n",
      "Topic  23\n",
      "goal, studies, scenario, effect, lets, coming, games, students, results, bernie, illegal, vote, climate, program, school, universe, main, clinton, bad, help\n",
      "\n",
      "Topic  24\n",
      "arms, work, goes, thought, lets, youve, results, discussion, illegal, meant, kind, womens, vote, main, paying, save, iq, convince, spend, way\n",
      "\n",
      "Topic  25\n",
      "want, youve, main, true, lets, studies, wage, military, quite, gain, discussion, work, theyve, students, kind, scenario, universe, way, climate, arms\n",
      "\n",
      "Topic  26\n",
      "illegal, main, work, theyre, save, maybe, necessary, force, arms, answer, goes, supporters, capable, bernie, plenty, gain, read, military, theyve, hate\n",
      "\n",
      "Topic  27\n",
      "way, want, goal, belief, quite, feels, illegal, main, save, plenty, relationship, games, view, lost, poverty, benefits, court, minorities, war, minimum\n",
      "\n",
      "Topic  28\n",
      "relationship, belief, arms, illegal, save, chance, relatively, goes, youve, poverty, want, minimum, main, policy, view, add, yes, gives, different, plenty\n",
      "\n",
      "Topic  29\n",
      "arms, free, work, solve, want, goal, worry, ground, status, yes, discussion, millions, years, statement, global, spend, necessary, larger, extreme, save\n",
      "\n",
      "Topic  30\n",
      "lets, arms, way, read, kind, illegal, main, worry, theyre, poverty, statement, larger, feels, ground, belief, status, did, wage, relationship, military\n",
      "\n",
      "Topic  31\n",
      "free, discussion, way, thought, illegal, disagree, youve, massive, maybe, test, statement, status, spend, feels, lost, feeling, answer, experience, larger, solve\n",
      "\n",
      "Topic  32\n",
      "youve, theyre, way, necessary, main, belief, thought, gain, illegal, jobs, true, solve, work, pain, dont, results, feels, justice, period, arms\n",
      "\n",
      "Topic  33\n",
      "arms, theyre, quite, larger, disagree, ground, minimum, bad, goal, thought, studies, universe, add, lose, plenty, cars, view, thats, test, unless\n",
      "\n",
      "Topic  34\n",
      "kind, results, different, status, illegal, discussion, want, statement, disagree, minimum, worry, work, relationship, larger, lost, feeling, answer, minorities, maybe, add\n",
      "\n",
      "Topic  35\n",
      "save, kind, goal, statement, larger, status, vote, theyre, feeling, did, test, gain, minorities, quite, bad, leaving, minimum, maybe, thought, later\n",
      "\n",
      "Topic  36\n",
      "yes, poverty, save, work, different, lets, dont, status, statement, lose, happy, feeling, way, willing, lost, larger, housing, results, plan, concept\n",
      "\n",
      "Topic  37\n",
      "kind, free, unless, plenty, work, different, necessary, chance, ground, view, goal, minimum, lets, true, yes, iq, federal, housing, knowing, argument\n",
      "\n",
      "Topic  38\n",
      "different, relationship, necessary, save, ground, belief, read, lost, relatively, thought, group, vote, work, lets, unless, heard, children, discussion, gives, status\n",
      "\n",
      "Topic  39\n",
      "different, disagree, lose, youve, arms, necessary, goes, climate, save, solution, thought, housing, talk, illegal, lost, lets, putting, negative, main, poverty\n",
      "\n",
      "Topic  40\n",
      "poverty, necessary, discussion, normal, iq, thought, climate, plenty, minimum, lets, studies, willing, statement, water, level, run, price, entirely, massive, true\n",
      "\n",
      "Topic  41\n",
      "read, add, bernie, youve, arms, answer, maybe, vote, statement, feels, belief, program, save, free, spend, poverty, normal, does, unless, future\n",
      "\n",
      "Topic  42\n",
      "plenty, test, read, solve, status, lose, talk, work, minorities, larger, statement, different, way, relationship, main, income, thought, thats, force, global\n",
      "\n",
      "Topic  43\n",
      "solve, test, housing, vote, solution, price, different, poverty, illegal, goal, huge, arms, global, thought, rich, reading, iq, allow, federal, putting\n",
      "\n",
      "Topic  44\n",
      "solve, read, necessary, solution, feels, chance, price, minimum, youve, save, quite, cut, larger, status, kind, statement, male, gain, parts, lose\n",
      "\n",
      "Topic  45\n",
      "talk, solve, discussion, solution, lost, housing, income, past, talking, ground, unless, kind, male, years, program, global, rich, goal, children, yes\n",
      "\n",
      "Topic  46\n",
      "necessary, yes, relationship, goal, iq, goes, maybe, arms, studies, federal, global, period, child, answer, climate, force, theyre, relatively, discussion, spend\n",
      "\n",
      "Topic  47\n",
      "lost, solve, plenty, children, different, minimum, disagree, global, poverty, arms, goes, military, wage, pain, justice, yes, scenario, true, ground, program\n",
      "\n",
      "Topic  48\n",
      "lost, quite, vote, gain, yes, necessary, work, housing, read, plenty, negative, unless, worry, disagree, cut, youve, theyre, belief, free, talk\n",
      "\n",
      "Topic  49\n",
      "global, lost, worry, theyre, parts, war, climate, superior, studies, work, court, minorities, plan, left, future, policy, particularly, free, rich, students\n",
      "\n",
      "Topic  50\n",
      "iq, price, relationship, lost, cut, court, worry, islam, war, course, happy, disagree, thought, youve, policy, harder, quite, illegal, work, feels\n",
      "\n",
      "Topic  51\n",
      "housing, minimum, gain, ground, read, status, chance, lost, scenario, allow, children, war, group, policy, rich, bernie, statement, spend, plenty, test\n",
      "\n",
      "Topic  52\n",
      "different, minorities, ground, worry, read, poverty, normal, maybe, willing, goal, unless, policy, discussion, answer, youve, group, quite, gain, studies, run\n",
      "\n",
      "Topic  53\n",
      "test, necessary, yes, minorities, solve, bernie, disagree, plenty, read, future, worry, iq, lost, chance, climate, happy, play, argument, suggest, court\n",
      "\n",
      "Topic  54\n",
      "parts, policy, test, unless, spend, relationship, particularly, happy, maybe, force, superior, work, use, answer, expect, kind, local, talk, does, eat\n",
      "\n",
      "Topic  55\n",
      "iq, lost, talk, test, past, necessary, talking, income, results, belief, bernie, add, arms, housing, main, does, theyre, status, thought, different\n",
      "\n",
      "Topic  56\n",
      "chance, lose, lost, disagree, relationship, maybe, poverty, add, normal, force, answer, gain, climate, view, lets, relatively, test, eat, child, read\n",
      "\n",
      "Topic  57\n",
      "minorities, price, global, children, pain, parts, save, disagree, hell, said, did, chance, rate, justice, housing, iq, future, theyll, modern, add\n",
      "\n",
      "Topic  58\n",
      "arms, price, kind, cut, concept, future, plan, superior, poverty, disagree, different, relationship, read, free, talk, quite, status, compared, play, youve\n",
      "\n",
      "Topic  59\n",
      "price, worry, solution, spend, add, vote, happy, statement, lost, view, belief, plenty, concept, unless, plan, prices, ultimately, game, main, thats\n",
      "\n",
      "Topic  60\n",
      "minorities, lose, lost, global, arms, status, bernie, feels, theyll, thats, war, necessary, definition, yes, game, harder, modern, expect, free, test\n",
      "\n",
      "Topic  61\n",
      "unless, quite, chance, worry, relationship, test, necessary, cut, global, negative, children, thats, housing, bernie, minimum, work, game, relatively, arms, feels\n",
      "\n",
      "Topic  62\n",
      "unless, war, solve, lost, chance, levels, court, global, argument, americans, studies, climate, bad, minimum, different, add, results, use, makes, did\n",
      "\n",
      "Topic  63\n",
      "birth, americans, war, total, iq, different, feels, game, save, theres, free, test, program, plenty, lost, add, thats, normal, reading, discussion\n",
      "\n",
      "Topic  64\n",
      "add, minorities, bernie, quite, cut, different, theyll, talk, global, meant, hell, way, lost, relationship, discussion, capable, solve, unless, male, birth\n",
      "\n",
      "Topic  65\n",
      "status, belief, negative, worry, unless, cut, solve, parts, list, willing, unfair, disagree, coming, goal, later, free, argument, save, quite, child\n",
      "\n",
      "Topic  66\n",
      "court, iq, children, rich, americans, theyll, add, quite, pain, thats, poverty, period, kind, cut, way, future, force, impact, spend, meant\n",
      "\n",
      "Topic  67\n",
      "theyll, feels, bad, negative, court, does, logical, doesnt, child, issues, yeah, future, vote, doing, chance, past, hell, mass, social, program\n",
      "\n",
      "Topic  68\n",
      "program, negative, lose, larger, spend, test, argument, school, pretty, feels, parts, true, effect, discussion, kind, price, thought, worry, scenario, belief\n",
      "\n",
      "Topic  69\n",
      "worry, lose, superior, lost, belief, iq, program, minorities, scenario, logical, effect, capable, solution, larger, disagree, unless, school, solve, total, test\n",
      "\n",
      "Topic  70\n",
      "theyll, larger, thats, price, makes, yes, birth, different, male, argument, belief, reading, climate, bernie, arms, worry, ill, learning, parts, capable\n",
      "\n",
      "Topic  71\n",
      "negative, solution, policy, americans, game, rich, hell, different, morally, spend, arent, thats, male, views, american, choices, mean, theres, policies, started\n",
      "\n",
      "Topic  72\n",
      "feels, add, court, global, total, question, unless, game, plenty, rich, superior, different, spend, happy, women, housing, minorities, male, abortion, goal\n",
      "\n",
      "Topic  73\n",
      "program, theyll, worry, thats, pregnancy, game, willing, mean, hell, expect, putting, run, parts, pick, school, question, housing, necessary, argument, quality\n",
      "\n",
      "Topic  74\n",
      "bad, solve, lose, willing, does, male, thats, studies, logical, reading, theres, spend, minorities, kind, game, status, chance, safety, students, doesnt\n",
      "\n",
      "Topic  75\n",
      "hell, pregnancy, unless, yes, americans, bernie, policy, lost, policies, list, later, view, make, issues, freedom, benefits, spend, going, heard, different\n",
      "\n",
      "Topic  76\n",
      "feels, willing, capable, thats, reading, logical, force, chance, americans, said, country, quite, hate, status, exactly, mean, happy, bernie, relationship, local\n",
      "\n",
      "Topic  77\n",
      "expect, court, total, islam, bad, larger, logical, relationship, lost, course, cars, willing, male, quite, relatively, making, valid, free, instance, youve\n",
      "\n",
      "Topic  78\n",
      "theyll, make, total, women, climate, safe, expect, happy, bernie, sex, willing, solve, logical, question, reading, view, spend, maybe, doing, plan\n",
      "\n",
      "Topic  79\n",
      "levels, children, yes, expect, policy, harder, superior, war, question, matter, goal, local, massive, theyll, issues, left, make, results, points, belief\n",
      "\n",
      "Topic  80\n",
      "sex, happy, willing, statement, male, effect, heard, children, make, issues, test, list, war, exactly, doing, feels, superior, meant, price, force\n",
      "\n",
      "Topic  81\n",
      "women, sex, policy, total, argument, solution, islam, make, theres, status, mean, water, add, program, court, climate, effect, thats, normal, course\n",
      "\n",
      "Topic  82\n",
      "rich, chance, policy, theyll, water, list, did, status, benefits, points, belief, iq, womens, expect, mass, different, cars, capable, politics, massive\n",
      "\n",
      "Topic  83\n",
      "capable, war, choices, argument, willing, negative, relationship, price, lose, students, superior, view, free, policy, add, total, worry, force, mean, test\n",
      "\n",
      "Topic  84\n",
      "benefits, list, view, reading, matter, theres, favor, housing, statement, issues, yeah, arent, past, water, question, add, court, unless, games, justice\n",
      "\n",
      "Topic  85\n",
      "expect, does, safety, larger, argument, doesnt, treatment, war, hell, run, meant, benefits, social, isnt, pregnancy, list, speaking, come, capable, theyre\n",
      "\n",
      "Topic  86\n",
      "argument, reading, status, yeah, male, policy, makes, abortion, did, worry, hell, unfair, test, future, learning, lose, didnt, birth, prevent, iq\n",
      "\n",
      "Topic  87\n",
      "reading, rich, does, solution, statement, said, doesnt, true, maintain, logical, learning, rate, mean, argument, generally, chance, able, meant, harder, ive\n",
      "\n",
      "Topic  88\n",
      "reading, question, capable, later, total, poverty, individual, islam, spend, plenty, thats, court, hate, cut, safety, putting, makes, pregnancy, benefits, freedom\n",
      "\n",
      "Topic  89\n",
      "mean, does, happy, view, plan, argument, doesnt, total, valid, treatment, fail, social, cars, court, theyll, heard, choices, individual, logical, concept\n",
      "\n",
      "Topic  90\n",
      "islam, status, sex, solution, harder, doing, past, spend, major, plan, unfair, choices, theyll, normal, able, parts, water, force, bernie, maybe\n",
      "\n",
      "Topic  91\n",
      "list, question, bad, water, reading, happy, treatment, make, parts, plan, valid, total, quality, got, able, superior, putting, causes, argument, levels\n",
      "\n",
      "Topic  92\n",
      "theres, islam, willing, water, war, valid, impact, force, rich, rate, able, isnt, happy, choices, harder, bad, total, view, quite, economy\n",
      "\n",
      "Topic  93\n",
      "view, country, true, mass, parts, valid, capable, expect, years, meant, past, future, spend, democracy, levels, theres, massive, statement, thats, major\n",
      "\n",
      "Topic  94\n",
      "theres, water, sex, later, levels, does, did, superior, cars, harder, exactly, heard, americans, saw, individual, doesnt, expect, womens, plenty, property\n",
      "\n",
      "Topic  95\n",
      "issues, levels, policy, argument, total, past, did, ive, decided, worry, doing, putting, future, degree, relationship, valid, safety, years, coming, feels\n",
      "\n",
      "Topic  96\n",
      "rich, argument, logical, theres, later, run, years, cut, capable, superior, list, issues, local, coming, war, conditions, abortion, try, low, extreme\n",
      "\n",
      "Topic  97\n",
      "thats, cut, sex, mean, superior, force, poverty, argument, bad, expect, spend, benefits, worry, court, help, rate, view, agree, valid, statement\n",
      "\n",
      "Topic  98\n",
      "yeah, benefits, mean, game, normal, cut, thats, does, hell, water, choices, argument, make, parts, willing, islam, male, entirely, doesnt, chance\n",
      "\n",
      "Topic  99\n",
      "climate, harder, program, bad, game, meant, past, cut, extreme, mean, makes, americans, pregnancy, able, willing, did, learning, plan, men, benefits\n",
      "\n",
      "Topic  100\n",
      "list, logical, mass, cut, male, normal, valid, suggest, impact, solution, sex, massive, war, feels, freedom, safe, makes, womens, behavior, unless\n",
      "\n",
      "Topic  101\n",
      "said, levels, court, willing, local, reading, experience, talk, rate, superior, program, list, make, past, cut, studies, future, id, democracy, saw\n",
      "\n",
      "Topic  102\n",
      "benefits, id, logical, mass, politics, prevent, male, cars, cut, maybe, talk, income, question, ultimately, premise, positive, generally, humans, fear, hell\n",
      "\n",
      "Topic  103\n",
      "matter, later, levels, years, game, minorities, water, mean, maintain, arent, logical, deal, force, impact, based, prevent, americans, ultimately, child, safe\n",
      "\n",
      "Topic  104\n",
      "mass, treatment, situation, matter, happened, children, massive, past, climate, status, logical, run, does, causes, learn, social, later, democracy, mean, issues\n",
      "\n",
      "Topic  105\n",
      "future, major, water, maintain, cars, learn, mean, logical, past, theres, heard, question, male, individual, climate, scenario, meant, premise, random, saw\n",
      "\n",
      "Topic  106\n",
      "sex, benefits, capable, local, yeah, maintain, black, share, huge, global, suggest, later, question, hate, water, true, normal, evidence, telling, larger\n",
      "\n",
      "Topic  107\n",
      "thats, water, later, treatment, doing, did, male, meant, harder, expect, logical, rate, try, superior, ultimately, plan, yeah, policy, list, learn\n",
      "\n",
      "Topic  108\n",
      "maintain, matter, program, happy, logical, yeah, climate, heard, sex, levels, id, islam, does, isnt, status, thats, choices, come, sell, individual\n",
      "\n",
      "Topic  109\n",
      "years, later, valid, male, past, program, climate, yeah, learn, ok, safety, country, use, social, putting, safe, work, making, competitive, reading\n",
      "\n",
      "Topic  110\n",
      "theres, able, islam, ultimately, cars, use, rich, doing, plan, matter, arent, feels, make, male, exactly, meant, benefits, isnt, tax, mass\n",
      "\n",
      "Topic  111\n",
      "matter, water, capable, suggest, cars, hell, morally, rate, generally, bad, saw, maintain, answer, policy, said, individual, started, treatment, benefits, country\n",
      "\n",
      "Topic  112\n",
      "list, thats, heard, war, policy, arent, theres, male, chance, doing, poverty, benefits, status, politics, expect, competitive, didnt, choices, huge, making\n",
      "\n",
      "Topic  113\n",
      "list, later, reading, cars, agree, policy, coming, id, willing, country, major, choices, premise, topic, scenario, policies, help, does, mass, poverty\n",
      "\n",
      "Topic  114\n",
      "cut, force, did, logical, statement, theres, male, reading, children, arent, make, impact, valid, capable, id, extreme, talk, policy, program, gives\n",
      "\n",
      "Topic  115\n",
      "male, definition, list, thats, massive, use, later, spend, view, try, word, issues, cars, fail, normal, local, putting, decided, learning, hell\n",
      "\n",
      "Topic  116\n",
      "benefits, massive, superior, id, water, expect, morally, future, logical, conditions, children, policies, generally, happy, quite, making, high, solution, answer, democracy\n",
      "\n",
      "Topic  117\n",
      "harder, mean, id, islam, question, thats, extreme, mass, doing, isnt, sex, answer, suggest, levels, massive, relationship, heard, water, studies, equal\n",
      "\n",
      "Topic  118\n",
      "heard, statement, come, able, argument, policies, spend, came, mass, safety, harder, local, ive, normal, benefits, wont, willing, americans, learn, womens\n",
      "\n",
      "Topic  119\n",
      "learn, doing, idea, reading, cars, war, democracy, rich, view, water, talk, harder, major, freedom, local, evidence, plan, expect, points, words\n",
      "\n",
      "Topic  120\n",
      "normal, matter, heard, policy, situation, happy, force, use, learn, ultimately, politics, does, words, reading, maintain, convince, result, cars, safe, waste\n",
      "\n",
      "Topic  121\n",
      "heard, maintain, ultimately, impact, superior, logical, argument, did, plan, try, children, mass, thats, run, murder, individual, meant, willing, islam, question\n",
      "\n",
      "Topic  122\n",
      "theres, superior, harder, justice, id, past, status, hell, massive, years, force, maintain, solution, valid, treatment, premise, does, happened, sell, war\n",
      "\n",
      "Topic  123\n",
      "valid, cut, past, able, plan, huge, later, massive, argument, run, doing, answer, premise, did, course, expect, saw, major, womens, black\n",
      "\n",
      "Topic  124\n",
      "justice, mass, past, statement, choices, logical, saw, come, situation, massive, harder, humans, learn, maybe, safety, prevent, plan, word, useful, individual\n",
      "\n",
      "Topic  125\n",
      "doing, id, high, statement, list, answer, climate, game, sex, remember, freedom, run, rate, choices, property, left, court, learn, idea, speaking\n",
      "\n",
      "Topic  126\n",
      "maybe, valid, normal, matter, court, issue, argument, later, price, relatively, doing, yes, past, mean, happened, gives, male, question, levels, make\n",
      "\n",
      "Topic  127\n",
      "fail, able, based, help, matter, make, logical, heard, yeah, pick, massive, points, hell, premise, americans, making, industry, scenario, line, individual\n",
      "\n",
      "Topic  128\n",
      "supporters, doing, rate, local, heard, prevent, leaving, individual, expect, mass, context, impact, room, studies, run, speaking, children, rich, pregnancy, telling\n",
      "\n",
      "Topic  129\n",
      "sex, pregnancy, heard, situation, fear, learn, game, compared, view, question, policies, mass, deal, help, prices, water, decided, force, reading, instance\n",
      "\n",
      "Topic  130\n",
      "happy, did, property, coming, able, exactly, harder, levels, poverty, policies, rate, larger, court, scenario, true, use, mean, feeling, cut, yes\n",
      "\n",
      "Topic  131\n",
      "arent, major, did, putting, run, country, based, exactly, list, quite, impact, heard, relationship, islam, spend, supporters, unless, massive, treatment, speaking\n",
      "\n",
      "Topic  132\n",
      "past, force, matter, total, market, benefits, logical, come, later, policies, putting, saw, generally, heard, definition, said, add, expect, property, popular\n",
      "\n",
      "Topic  133\n",
      "points, superior, major, valid, ultimately, impact, rate, logical, said, friends, supporters, putting, force, argument, sex, mass, effect, meant, violence, safe\n",
      "\n",
      "Topic  134\n",
      "able, democracy, local, doing, thats, past, future, hell, happy, black, run, results, coming, logical, safe, question, high, superior, fail, statement\n",
      "\n",
      "Topic  135\n",
      "able, local, valid, harder, make, said, rich, context, logical, use, ive, humans, court, coming, quite, thats, learning, arent, specifically, federal\n",
      "\n",
      "Topic  136\n",
      "ultimately, agree, local, make, view, treatment, massive, issues, topic, property, sex, humans, pick, remember, capable, future, actual, huge, evidence, impact\n",
      "\n",
      "Topic  137\n",
      "id, happy, local, rate, americans, impact, past, fail, learn, fear, extreme, help, comments, islam, theres, valid, issues, choices, abortion, free\n",
      "\n",
      "Topic  138\n",
      "rate, massive, extreme, levels, talking, past, situation, black, politics, pregnancy, born, americans, studies, generally, harder, exactly, yeah, cars, high, having\n",
      "\n",
      "Topic  139\n",
      "rate, make, major, americans, local, politics, happy, women, islam, humans, high, deal, policy, useful, mass, rule, premise, knowing, child, safe\n",
      "\n",
      "Topic  140\n",
      "able, prevent, ive, said, sex, treatment, safety, cars, water, massive, students, run, positive, ill, happy, learn, definition, gap, democracy, ignore\n",
      "\n",
      "Topic  141\n",
      "didnt, ultimately, help, arent, yeah, convince, local, income, line, pick, solution, useful, pregnancy, treatment, cut, universe, maybe, list, morally, isnt\n",
      "\n",
      "Topic  142\n",
      "extreme, fail, situation, views, matter, past, question, actual, children, water, use, thats, youd, dead, levels, causes, best, learning, course, compared\n",
      "\n",
      "Topic  143\n",
      "come, arent, said, ultimately, extreme, safety, supporters, game, choices, kill, causes, question, room, later, climate, rate, favor, democracy, kid, lower\n",
      "\n",
      "Topic  144\n",
      "supporters, abortion, arent, make, prevent, quite, security, doing, learn, able, line, sell, choices, women, politics, happened, talking, male, saw, comments\n",
      "\n",
      "Topic  145\n",
      "based, putting, id, freedom, fear, meant, justice, actual, safe, mental, compared, politics, game, extreme, low, play, property, popular, points, prices\n",
      "\n",
      "Topic  146\n",
      "extreme, happy, doing, premise, happened, best, suggest, pick, children, local, instance, deal, womens, didnt, talk, morally, reading, islam, coming, based\n",
      "\n",
      "Topic  147\n",
      "market, cars, heard, competitive, prevent, favor, complete, hate, genetic, doing, room, use, safe, ultimately, rate, putting, generally, popular, making, years\n",
      "\n",
      "Topic  148\n",
      "safe, fail, putting, valid, wouldnt, gives, maybe, justice, entire, situation, property, make, ill, responsible, leaving, yeah, context, deal, gender, gap\n",
      "\n",
      "Topic  149\n",
      "income, rate, humans, compared, morally, truth, saw, children, happened, play, heard, use, voting, major, help, spend, share, water, valid, wealth\n"
     ]
    }
   ],
   "source": [
    "display_topics(lsa_model,my_vectorizer.get_feature_names(),20) # We have to look at the topics before hand and then add the labels afterwards"
   ]
  },
  {
   "cell_type": "markdown",
   "metadata": {},
   "source": [
    "#### LDA"
   ]
  },
  {
   "cell_type": "code",
   "execution_count": 223,
   "metadata": {},
   "outputs": [],
   "source": [
    "n_topics = 150\n",
    "n_iter = 13\n",
    "lda_model = LatentDirichletAllocation(n_components=n_topics,\n",
    "                                max_iter=n_iter,\n",
    "                                random_state=42,\n",
    "                               learning_method='online')\n",
    "lda_train_texts = lda_model.fit_transform(vectorized_train_texts)\n",
    "lda_test_texts = lda_model.transform(vectorized_test_texts)"
   ]
  },
  {
   "cell_type": "code",
   "execution_count": 224,
   "metadata": {},
   "outputs": [],
   "source": [
    "lda_test_texts = lda_model.transform(vectorized_test_texts)"
   ]
  },
  {
   "cell_type": "code",
   "execution_count": 226,
   "metadata": {},
   "outputs": [
    {
     "name": "stdout",
     "output_type": "stream",
     "text": [
      "\n",
      "Topic  0\n",
      "minimum, valid, bunch, crime, president, major, convince, probably, demand, crimes, problem, self, criminal, past, service, instance, problems, iq, private, arent\n",
      "\n",
      "Topic  1\n",
      "people, human, internet, zero, income, debt, held, significant, various, turn, actions, transgender, effort, directly, individuals, talk, bunch, voting, union, high\n",
      "\n",
      "Topic  2\n",
      "bring, species, rest, wanted, protect, benefits, straight, space, poor, team, build, allow, state, trust, healthcare, strong, parts, america, start, chance\n",
      "\n",
      "Topic  3\n",
      "candidates, running, career, drive, theyll, level, paying, dont, saw, cases, truth, theyve, main, lets, generally, jobs, use, comments, treatment, safe\n",
      "\n",
      "Topic  4\n",
      "news, identity, experiences, ability, generally, poverty, member, primary, says, playing, born, ive, city, goes, takes, loss, rule, politics, lets, open\n",
      "\n",
      "Topic  5\n",
      "left, fun, concept, fighting, tax, standard, vs, specific, computer, advantage, election, woman, play, legal, goal, understanding, set, expect, major, harder\n",
      "\n",
      "Topic  6\n",
      "murder, meant, level, resources, quite, cut, theyre, mass, effect, okay, logical, close, share, main, businesses, question, different, comments, isnt, gun\n",
      "\n",
      "Topic  7\n",
      "superior, wouldnt, male, forces, false, opposed, space, process, opposite, tldr, thought, rate, didnt, favor, prevent, size, certain, use, levels, stop\n",
      "\n",
      "Topic  8\n",
      "isnt, issue, random, security, islam, today, simply, community, healthcare, starting, post, lives, common, main, provided, lose, tell, directly, level, god\n",
      "\n",
      "Topic  9\n",
      "future, gain, plan, players, rate, skills, planet, play, thought, different, level, woman, ad, paying, main, difference, lose, form, theyll, doing\n",
      "\n",
      "Topic  10\n",
      "true, come, high, safety, let, benefit, voted, truly, donald, superior, theyve, content, pregnancy, called, came, shit, remember, add, police, end\n",
      "\n",
      "Topic  11\n",
      "local, damage, telling, beliefs, function, science, gun, bernie, class, supposed, logic, shouldnt, life, situations, levels, including, way, try, similar, live\n",
      "\n",
      "Topic  12\n",
      "willing, impact, opinions, skill, kind, doubt, conditions, developed, taking, view, running, simply, sort, theory, mother, peoples, useful, levels, results, family\n",
      "\n",
      "Topic  13\n",
      "bathroom, look, open, provide, changed, true, trust, parents, necessary, watch, result, assumption, healthy, actions, require, gets, approach, cause, youve, economic\n",
      "\n",
      "Topic  14\n",
      "got, question, putting, causes, paying, government, th, morality, means, large, speech, aware, use, level, iq, solution, security, ways, save, expect\n",
      "\n",
      "Topic  15\n",
      "quite, states, share, businesses, inherently, vast, resources, practice, actually, close, treatment, okay, save, gun, commit, guys, fail, situation, aware, equality\n",
      "\n",
      "Topic  16\n",
      "going, intelligence, maintain, office, theyre, illegal, experiences, laws, rate, health, read, stupid, entire, test, debt, taking, shouldnt, huge, convince, studies\n",
      "\n",
      "Topic  17\n",
      "argue, kid, points, action, kill, kids, candidate, avoid, things, positive, theyve, jobs, truth, level, fail, situation, able, media, humans, doing\n",
      "\n",
      "Topic  18\n",
      "view, chance, word, words, abortion, change, moral, include, certainly, baby, changes, theyve, changed, skill, continue, genetic, way, ad, prefer, size\n",
      "\n",
      "Topic  19\n",
      "cases, right, defense, effective, run, needs, forced, bad, suggest, potential, goal, emotional, positions, main, constitution, brain, caused, levels, use, certainly\n",
      "\n",
      "Topic  20\n",
      "price, best, prices, chance, sort, getting, college, social, add, paying, gone, fix, theyre, really, guns, necessary, lose, iq, instance, thought\n",
      "\n",
      "Topic  21\n",
      "goes, hope, dangerous, sanders, couple, option, matter, rule, content, level, way, away, social, alternative, republican, lose, live, house, works, parties\n",
      "\n",
      "Topic  22\n",
      "larger, later, ill, learning, imagine, culture, immigrants, wants, paying, claim, present, produce, creating, iq, away, want, harder, price, comments, parents\n",
      "\n",
      "Topic  23\n",
      "wage, military, building, issues, minimum, ive, helps, economy, economic, paying, main, income, work, working, lots, industry, enjoy, built, potentially, wages\n",
      "\n",
      "Topic  24\n",
      "things, id, bathroom, corporations, taught, position, terrorist, cut, important, highly, average, allowed, vast, completely, equal, harm, didnt, theres, accept, income\n",
      "\n",
      "Topic  25\n",
      "treatment, gives, thing, add, millions, long, higher, think, modern, loss, belief, fall, expect, consider, current, lives, fail, cmv, simply, logical\n",
      "\n",
      "Topic  26\n",
      "necessary, leaving, note, heard, dead, option, save, paying, shes, logical, act, white, language, members, main, overall, nuclear, available, expect, use\n",
      "\n",
      "Topic  27\n",
      "solve, lost, arms, equal, power, places, furthermore, matters, governments, form, disagree, set, world, decision, theyve, paying, level, ways, security, poor\n",
      "\n",
      "Topic  28\n",
      "experience, countries, property, apply, terrible, pick, rates, copyright, greater, sure, pressure, expect, way, equality, id, case, prefer, immoral, higher, rest\n",
      "\n",
      "Topic  29\n",
      "mean, furthermore, situations, leave, constitution, say, talking, pregnancy, industry, waste, nature, necessarily, ways, worse, taking, labor, parties, subject, obama, housing\n",
      "\n",
      "Topic  30\n",
      "womens, meant, women, game, compared, sexual, feminism, eu, feminists, conservative, theyve, strong, majority, female, harder, rich, way, fight, events, expect\n",
      "\n",
      "Topic  31\n",
      "weapons, god, business, tldr, body, terrorist, thats, make, employees, government, potentially, list, lots, choices, status, hell, allowing, aware, speech, needed\n",
      "\n",
      "Topic  32\n",
      "making, necessarily, absolutely, knowledge, went, republicans, assumption, products, work, claim, lot, action, separate, experience, provide, programs, sense, individuals, marriage, considered\n",
      "\n",
      "Topic  33\n",
      "possibly, idea, decide, violence, movie, id, defined, numbers, arguing, costs, energy, paying, expensive, iq, matter, arent, plenty, comments, ad, fail\n",
      "\n",
      "Topic  34\n",
      "poverty, court, pregnancy, mental, foreign, war, obviously, clear, music, nation, scientific, policy, level, considering, number, correct, theyll, way, impact, influence\n",
      "\n",
      "Topic  35\n",
      "argument, based, views, bear, far, open, direct, factor, regardless, online, attack, hillary, theyve, inherently, nearly, form, id, situation, paying, issue\n",
      "\n",
      "Topic  36\n",
      "worth, persons, young, protect, does, nice, families, doesnt, marriage, nature, cmv, iq, human, theyve, people, levels, issue, assume, like, thousands\n",
      "\n",
      "Topic  37\n",
      "paying, dont, work, youve, want, belief, feels, literally, child, read, specific, jobs, arent, saw, disagree, global, favor, okay, level, bernie\n",
      "\n",
      "Topic  38\n",
      "wants, responsibility, difficult, deserve, benefit, men, defined, years, game, income, industry, definition, present, competitive, point, uk, governments, prevent, tldr, value\n",
      "\n",
      "Topic  39\n",
      "foreign, logic, energy, think, person, meant, transgender, decided, choices, actions, problem, fair, conditions, game, taught, parties, seriously, differently, logical, lose\n",
      "\n",
      "Topic  40\n",
      "person, womens, normal, conversation, share, solve, called, rest, prices, happens, space, shes, essentially, building, scientific, environment, loss, knows, shows, tend\n",
      "\n",
      "Topic  41\n",
      "safe, hell, saw, groups, jobs, prevent, level, global, iq, doing, main, read, separate, goal, illegal, term, order, wont, plenty, theyre\n",
      "\n",
      "Topic  42\n",
      "americans, policies, animal, police, racist, essentially, produce, government, ad, difficult, expect, belief, paying, views, pass, disagree, personal, theory, human, equality\n",
      "\n",
      "Topic  43\n",
      "theyve, words, bernie, certainly, truth, baby, word, size, add, apply, ultimately, fucking, moral, especially, way, discussion, choices, minorities, religion, chance\n",
      "\n",
      "Topic  44\n",
      "justice, responsible, given, products, ability, just, exist, rest, good, emotions, place, affect, completely, original, present, ignore, eu, positions, education, peoples\n",
      "\n",
      "Topic  45\n",
      "program, allows, pretty, gap, school, practical, book, abuse, people, scenario, bernie, values, form, matter, spectrum, present, option, afford, opposite, way\n",
      "\n",
      "Topic  46\n",
      "fine, love, fucking, super, personally, hes, experiences, way, fail, feels, paying, jobs, explain, primary, ideas, pressure, games, harm, rates, effective\n",
      "\n",
      "Topic  47\n",
      "fix, court, plenty, convince, subject, justice, short, cultural, original, didnt, racism, force, perfect, statement, think, tell, gives, lot, defense, benefit\n",
      "\n",
      "Topic  48\n",
      "meat, parts, union, common, just, important, interesting, kind, doesnt, negative, advantage, idea, language, fun, years, driving, leave, gives, explain, president\n",
      "\n",
      "Topic  49\n",
      "results, morally, sex, thought, help, education, forces, couple, treatment, peoples, competitive, true, demand, come, specific, truth, wealthy, know, respect, argument\n",
      "\n",
      "Topic  50\n",
      "comes, emotions, individual, population, terrorist, fight, shows, word, income, demand, conservative, probably, today, knowing, given, team, culture, truly, relatively, helps\n",
      "\n",
      "Topic  51\n",
      "worry, war, american, individual, business, mention, choice, fear, situation, saw, giving, comments, wealthy, break, basically, wants, internet, study, set, means\n",
      "\n",
      "Topic  52\n",
      "student, justice, defined, seen, government, reading, continue, relationship, theyve, service, apply, brain, jobs, lower, id, society, kid, population, isnt, doesnt\n",
      "\n",
      "Topic  53\n",
      "deleted, union, member, useful, afford, healthcare, character, governments, convince, help, fairly, actually, lives, changing, personal, considering, war, realize, place, uk\n",
      "\n",
      "Topic  54\n",
      "child, children, pain, capable, turn, paid, federal, big, harder, taught, questions, just, biggest, goal, theyve, dont, citizens, age, youre, plenty\n",
      "\n",
      "Topic  55\n",
      "knows, generally, tell, body, economy, known, worst, candidates, sexual, help, health, hate, follow, greater, potential, complete, seen, net, apply, wealth\n",
      "\n",
      "Topic  56\n",
      "belief, lower, decades, behavior, value, various, ok, million, living, city, youd, hillary, house, obama, paying, supposed, mind, election, try, order\n",
      "\n",
      "Topic  57\n",
      "paying, jobs, bad, theyve, theyre, level, dont, theyll, theres, goal, test, illegal, read, kind, way, try, lose, save, youve, thats\n",
      "\n",
      "Topic  58\n",
      "choices, actual, law, correct, example, seeing, choose, respect, extent, immigration, main, situation, goal, constitution, difference, truth, tell, single, theyre, affect\n",
      "\n",
      "Topic  59\n",
      "sports, murder, dollars, deal, animals, movement, felt, place, car, bit, service, things, needed, id, word, good, provide, built, pressure, candidate\n",
      "\n",
      "Topic  60\n",
      "dont, want, paying, level, theyve, feels, kind, jobs, read, main, belief, way, rate, bernie, personal, pick, felt, arent, save, tried\n",
      "\n",
      "Topic  61\n",
      "youve, global, results, learn, like, test, necessary, happen, way, jobs, citizens, job, fuck, major, liberal, fit, feel, iq, hear, matter\n",
      "\n",
      "Topic  62\n",
      "yes, ago, taxes, story, saying, mentioned, marijuana, pass, create, time, largely, increasing, looking, public, ok, bernie, language, corporations, state, shouldnt\n",
      "\n",
      "Topic  63\n",
      "favor, effect, age, topic, work, generally, youre, germany, scenario, werent, car, type, workers, impossible, bernie, years, goal, financial, ok, thought\n",
      "\n",
      "Topic  64\n",
      "issue, men, hillary, age, reading, starting, damage, life, long, trump, candidates, industry, fair, american, simple, america, school, woman, wont, allows\n",
      "\n",
      "Topic  65\n",
      "worst, having, creating, does, primary, higher, feminists, expect, believe, act, employees, facts, vote, market, wants, claim, result, strong, terms, member\n",
      "\n",
      "Topic  66\n",
      "answer, eat, maybe, happens, animals, eating, specifically, huge, individuals, dont, level, jobs, bernie, way, essentially, literally, story, theyre, difference, situation\n",
      "\n",
      "Topic  67\n",
      "status, fine, address, personal, media, fight, global, islam, unless, explain, massive, wealth, programs, age, came, sounds, debt, going, view, depending\n",
      "\n",
      "Topic  68\n",
      "continue, line, millions, like, minimum, think, income, giving, islam, super, shes, male, period, animal, issues, ban, driving, science, studies, programs\n",
      "\n",
      "Topic  69\n",
      "provide, team, incredibly, art, hand, used, standards, provided, ignore, difference, certainly, party, theyve, known, levels, way, main, dont, read, want\n",
      "\n",
      "Topic  70\n",
      "sign, obvious, product, fair, id, use, iq, paying, cases, dont, needs, want, theres, money, youve, jobs, argument, isnt, period, level\n",
      "\n",
      "Topic  71\n",
      "religions, fairly, violent, congress, bit, companies, cultural, helps, early, complex, simple, fair, way, parties, largely, labor, leaving, theyve, violence, add\n",
      "\n",
      "Topic  72\n",
      "taken, true, perspective, entirely, random, influence, low, maybe, sexual, prices, zero, disagree, effect, rates, history, easily, criminal, stamps, sign, highly\n",
      "\n",
      "Topic  73\n",
      "vote, parts, voting, particularly, end, came, policy, religious, voters, political, democracy, votes, campaign, democratic, remember, democrats, supply, paying, dont, employees\n",
      "\n",
      "Topic  74\n",
      "trade, evidence, million, language, ads, genetic, minimum, various, logical, eventually, literally, logic, identity, pretty, wanted, emotional, context, questions, america, really\n",
      "\n",
      "Topic  75\n",
      "healthcare, killing, lose, mean, loss, room, piece, meant, went, gap, dangerous, worry, actions, mind, emotional, rates, individual, trans, offer, youve\n",
      "\n",
      "Topic  76\n",
      "unfair, food, logical, americans, basis, doesnt, earth, rational, piece, family, advantage, free, individual, kids, standard, says, middle, working, identify, shouldnt\n",
      "\n",
      "Topic  77\n",
      "shouldnt, level, studies, scenario, work, left, way, muslims, case, massive, choices, thats, property, jobs, mass, fix, solution, race, thousands, able\n",
      "\n",
      "Topic  78\n",
      "solution, huge, black, areas, data, important, deserve, amendment, necessary, commit, arent, events, theyve, laws, situation, thought, comes, set, exact, uk\n",
      "\n",
      "Topic  79\n",
      "bit, movement, land, save, results, kids, workers, alternative, happy, overall, majority, cultural, weight, straight, eat, fall, value, issue, continue, buy\n",
      "\n",
      "Topic  80\n",
      "games, sex, total, paying, identify, majority, female, ideas, weapons, share, risk, opinions, study, women, biggest, level, black, born, big, based\n",
      "\n",
      "Topic  81\n",
      "effective, positions, easy, students, sports, rate, extra, person, base, support, caused, gender, approach, truly, kids, save, trying, cmv, stamps, property\n",
      "\n",
      "Topic  82\n",
      "housing, complete, competitive, build, instead, allow, developed, considered, factors, approach, choice, days, great, born, works, level, expect, crime, form, think\n",
      "\n",
      "Topic  83\n",
      "drug, safety, hope, goes, help, pregnancy, treatment, option, social, parts, away, illegal, president, religious, lots, mention, democrats, superior, isnt, competitive\n",
      "\n",
      "Topic  84\n",
      "past, talk, country, years, talking, average, decided, increase, race, income, seriously, dollars, pay, racism, interests, outside, told, lot, place, spending\n",
      "\n",
      "Topic  85\n",
      "little, politics, result, wealth, knows, said, immoral, similar, home, told, treatment, lets, entire, save, away, matter, individuals, fear, popular, false\n",
      "\n",
      "Topic  86\n",
      "extreme, friends, online, general, takes, ones, leads, friend, short, cost, despite, different, background, harder, comments, looks, able, extremely, pick, piece\n",
      "\n",
      "Topic  87\n",
      "space, massive, places, games, security, topic, republican, order, gets, safe, agree, use, wants, called, terms, political, particular, experiences, difficult, violence\n",
      "\n",
      "Topic  88\n",
      "benefits, sounds, needed, worse, having, offer, easy, guess, rules, base, society, access, second, expect, market, happened, particular, form, focus, jobs\n",
      "\n",
      "Topic  89\n",
      "statement, status, room, unfair, feeling, roles, muslims, start, live, party, set, considering, language, genetic, scientific, university, conditions, fail, ability, uk\n",
      "\n",
      "Topic  90\n",
      "popular, mean, ignore, meat, man, speak, paying, terms, net, media, responsibility, attention, fear, reading, youd, days, useful, logical, guys, identity\n",
      "\n",
      "Topic  91\n",
      "agree, company, say, premise, theyve, population, save, gay, innocent, win, nearly, direct, differently, europe, eventually, position, took, islam, leave, context\n",
      "\n",
      "Topic  92\n",
      "thought, thats, useful, rule, jobs, local, systems, fight, spending, read, highly, events, bring, honestly, global, main, mass, want, doing, premise\n",
      "\n",
      "Topic  93\n",
      "times, post, minimum, ideas, fuck, helps, piece, states, affect, wealthy, police, economy, provide, religious, debate, lives, news, effective, exist, deserve\n",
      "\n",
      "Topic  94\n",
      "nature, belief, exactly, difference, past, factor, run, saying, action, arent, millions, gender, party, animal, time, market, influence, reading, environment, friends\n",
      "\n",
      "Topic  95\n",
      "womens, jobs, ive, want, effect, children, leads, price, theory, dont, takes, better, ultimately, theres, land, laws, just, thought, read, work\n",
      "\n",
      "Topic  96\n",
      "share, experience, allows, option, security, violent, ones, books, decision, relationships, past, student, talk, trade, form, valid, think, speaking, fit, extreme\n",
      "\n",
      "Topic  97\n",
      "video, leave, disagree, buy, im, resources, women, safety, animals, started, thinking, extent, lives, highly, argue, citizens, marriage, religious, favor, trump\n",
      "\n",
      "Topic  98\n",
      "standard, stuff, let, hate, results, lots, rate, laws, come, factor, time, necessary, im, marijuana, took, act, parties, current, offer, poverty\n",
      "\n",
      "Topic  99\n",
      "bad, person, research, fairly, benefit, risk, options, heard, position, want, support, democratic, moral, currently, rational, provide, climate, perfectly, topic, local\n",
      "\n",
      "Topic  100\n",
      "free, happy, definition, spend, policy, freedom, directly, useful, alternative, main, try, killed, dont, paying, sell, theyre, constitution, safe, iq, saw\n",
      "\n",
      "Topic  101\n",
      "paying, birth, willing, required, lack, extra, guys, waste, shows, lose, global, fail, medical, prevent, higher, theyve, people, taking, jobs, test\n",
      "\n",
      "Topic  102\n",
      "going, trying, office, buy, debt, debate, longer, rate, intelligence, stupid, grow, okay, level, complex, health, corporations, death, original, held, house\n",
      "\n",
      "Topic  103\n",
      "period, minorities, die, perspective, money, size, im, disagree, save, youd, expect, theyve, goal, assume, immigration, says, peoples, happens, stay, approach\n",
      "\n",
      "Topic  104\n",
      "away, killed, define, basically, response, books, exists, labor, assuming, point, main, adopted, plenty, early, test, allowed, way, healthy, simple, cause\n",
      "\n",
      "Topic  105\n",
      "worth, candidates, biological, started, function, conservative, rules, rate, cost, logic, speaking, global, responsible, rule, love, problem, animals, dead, maintain, bernie\n",
      "\n",
      "Topic  106\n",
      "nearly, say, general, hillary, tried, animals, america, child, university, define, peoples, children, win, power, medical, answer, saying, individual, today, emotions\n",
      "\n",
      "Topic  107\n",
      "allow, killing, groups, argue, feel, plenty, correct, cases, sell, food, kind, possibly, water, held, womens, rates, grow, fit, address, wars\n",
      "\n",
      "Topic  108\n",
      "entire, guy, help, case, look, taken, drugs, hillary, using, comes, wear, star, cars, plenty, stop, thought, prevent, discussion, human, comments\n",
      "\n",
      "Topic  109\n",
      "ill, seen, crime, normal, weve, fair, security, violent, expensive, rule, zero, interests, democratic, love, millions, matters, paying, nearly, terrorist, planet\n",
      "\n",
      "Topic  110\n",
      "rates, freedom, values, relatively, workers, politicians, far, product, million, exists, area, access, understanding, premise, differently, military, problem, american, support, water\n",
      "\n",
      "Topic  111\n",
      "baby, tried, cut, age, including, cases, practice, sports, theory, complex, relatively, brain, history, trans, view, big, wealth, attention, belief, medical\n",
      "\n",
      "Topic  112\n",
      "gun, check, watch, today, realize, convince, mass, created, caused, currently, global, new, university, strong, union, got, driving, land, damage, end\n",
      "\n",
      "Topic  113\n",
      "dont, paying, work, youve, feels, want, belief, read, jobs, child, saw, okay, favor, arent, global, killed, literally, disagree, seen, superior\n",
      "\n",
      "Topic  114\n",
      "specifically, plenty, gender, main, space, degree, close, sell, like, agree, conservative, huge, simply, putting, paying, created, differences, size, accept, dont\n",
      "\n",
      "Topic  115\n",
      "illegal, humans, supporters, hard, student, likely, playing, new, decisions, save, definitely, read, theyve, healthcare, religion, member, arent, fear, reading, level\n",
      "\n",
      "Topic  116\n",
      "list, able, wont, weight, exact, thinking, literally, harder, paying, lets, finally, thought, positive, plenty, theyre, factors, worry, jobs, corporations, local\n",
      "\n",
      "Topic  117\n",
      "negative, middle, bathroom, natural, national, thought, suffering, united, theyve, chance, examples, way, theyre, perfect, prefer, treatment, conditions, commit, housing, theyll\n",
      "\n",
      "Topic  118\n",
      "level, goal, straight, logical, jobs, morally, multiple, biological, read, changing, thought, significant, mother, thousands, poor, wasnt, harm, source, started, character\n",
      "\n",
      "Topic  119\n",
      "tend, youll, family, area, trans, men, finally, reading, situation, necessary, extent, little, far, gets, technology, million, getting, business, spectrum, public\n",
      "\n",
      "Topic  120\n",
      "decided, speaking, stuff, animals, hope, depends, extent, argue, post, change, just, experience, wasnt, created, job, democracy, dead, research, piece, way\n",
      "\n",
      "Topic  121\n",
      "future, plan, thats, useful, highly, compared, thought, statement, want, support, generally, dont, entire, parents, paying, global, unless, doing, didnt, fight\n",
      "\n",
      "Topic  122\n",
      "relationship, relatively, context, time, murder, paying, involved, men, weve, relationships, politicians, belief, continue, city, behavior, dont, policy, expect, higher, use\n",
      "\n",
      "Topic  123\n",
      "lets, history, speaking, earth, interested, math, happening, watch, terrorist, id, happened, emotions, comments, theyre, truth, hillary, social, person, harder, crime\n",
      "\n",
      "Topic  124\n",
      "unless, account, drug, interesting, believe, purpose, opinion, makes, born, easier, gets, single, way, equality, potential, differently, abuse, thousands, jobs, basic\n",
      "\n",
      "Topic  125\n",
      "impact, ultimately, theyve, jobs, zero, way, dont, especially, truth, level, understand, kind, plenty, theyre, youve, results, add, reading, genetic, theyll\n",
      "\n",
      "Topic  126\n",
      "easily, water, normal, entirely, hours, lot, poverty, labor, whats, fear, rule, discussion, jobs, harder, arent, deal, primary, rules, world, speak\n",
      "\n",
      "Topic  127\n",
      "meaning, area, points, eventually, reasonable, simply, supposed, life, decided, exactly, harder, members, rich, wages, fuck, went, book, thousands, big, youd\n",
      "\n",
      "Topic  128\n",
      "force, hate, prove, meaning, havent, allowing, require, follow, union, private, piece, goal, values, necessary, instance, starting, peoples, religion, stuff, ways\n",
      "\n",
      "Topic  129\n",
      "clearly, effort, reasonable, expect, exactly, direct, dont, add, theyve, emotional, paying, belief, taking, thats, harm, wealthy, republicans, youve, public, long\n",
      "\n",
      "Topic  130\n",
      "test, eventually, important, basically, fairly, logical, prices, violent, leaving, theres, cases, illegal, theyve, willing, compared, yes, higher, god, healthy, way\n",
      "\n",
      "Topic  131\n",
      "paying, discussion, massive, jobs, dont, save, level, disagree, theyre, matter, capable, way, read, wanted, information, want, market, fail, iq, research\n",
      "\n",
      "Topic  132\n",
      "birth, check, changed, pass, language, form, ok, clearly, attention, drive, figure, labor, especially, eat, benefits, field, vs, life, scientific, land\n",
      "\n",
      "Topic  133\n",
      "coming, studies, climate, scenario, degree, knowing, schools, students, laws, effect, lead, small, clinton, field, universe, stuff, low, kind, help, issues\n",
      "\n",
      "Topic  134\n",
      "born, national, position, harm, ban, actual, information, student, end, culture, justice, taken, events, word, especially, belief, original, fine, considered, uk\n",
      "\n",
      "Topic  135\n",
      "cars, cut, exactly, quality, currently, assume, parents, worst, belief, gap, labor, close, explain, pick, positive, doubt, world, person, set, expect\n",
      "\n",
      "Topic  136\n",
      "yeah, line, reading, video, leave, driving, rights, situation, theyve, giving, prevent, way, jobs, copyright, youve, illegal, treatment, save, necessary, dont\n",
      "\n",
      "Topic  137\n",
      "significant, jobs, multiple, benefits, bad, ok, taken, wrong, level, goal, different, valid, way, mother, ultimately, facts, straight, religion, theyre, dont\n",
      "\n",
      "Topic  138\n",
      "looks, successful, provide, price, schools, present, relationships, racism, option, ads, true, attention, necessary, friend, certain, start, young, normal, pay, response\n",
      "\n",
      "Topic  139\n",
      "maintain, main, sell, disagree, certain, plenty, levels, positive, fail, created, sense, gender, differences, usually, raise, food, accept, different, easier, lose\n",
      "\n",
      "Topic  140\n",
      "use, land, need, body, movement, wrong, thought, writing, rape, perfectly, environment, special, influence, consent, conclusion, primary, control, id, able, expect\n",
      "\n",
      "Topic  141\n",
      "did, work, deal, didnt, mass, happened, god, limited, support, jobs, killing, world, transgender, death, tldr, theyll, test, think, truth, shouldnt\n",
      "\n",
      "Topic  142\n",
      "probably, order, positions, increase, increasing, main, relationships, racism, feeling, free, easy, extremely, position, insurance, religion, spending, guess, ok, drug, skill\n",
      "\n",
      "Topic  143\n",
      "deleted, evil, intelligence, equality, computer, room, stop, forced, ideas, position, extra, interesting, politicians, voted, live, healthy, politics, rates, various, abortion\n",
      "\n",
      "Topic  144\n",
      "make, actions, reason, explain, trust, trump, person, spectrum, technology, commit, size, tell, discussion, main, hold, far, willing, got, bit, disagree\n",
      "\n",
      "Topic  145\n",
      "gives, loss, relatively, allowed, kid, logical, actions, looking, questions, add, make, character, housing, straight, main, fail, seriously, theyll, okay, fight\n",
      "\n",
      "Topic  146\n",
      "results, rich, critical, cultural, programs, america, judge, creating, conversation, science, disagree, companies, primary, forced, paying, add, process, removed, present, claim\n",
      "\n",
      "Topic  147\n",
      "different, islam, course, reality, evil, arguments, real, evidence, trade, theyve, paying, nice, successful, comments, better, dont, treatment, immigrants, major, member\n",
      "\n",
      "Topic  148\n",
      "ground, group, freedom, check, ban, wealthy, sound, care, paying, powerful, correct, basis, unless, allowing, reading, claim, produce, okay, easy, pick\n",
      "\n",
      "Topic  149\n",
      "larger, policies, long, americans, matters, issues, apply, killing, mean, spectrum, risk, learning, like, born, drive, experience, problem, putting, difference, able\n"
     ]
    }
   ],
   "source": [
    "display_topics(lda_model,my_vectorizer.get_feature_names(),20) # We have to look at the topics before hand and then add the labels afterwards"
   ]
  },
  {
   "cell_type": "code",
   "execution_count": 225,
   "metadata": {},
   "outputs": [],
   "source": [
    "reduced_train_texts = lda_train_texts\n",
    "reduced_test_texts = lda_test_texts"
   ]
  },
  {
   "cell_type": "markdown",
   "metadata": {},
   "source": [
    "## Supervised Classification"
   ]
  },
  {
   "cell_type": "code",
   "execution_count": null,
   "metadata": {},
   "outputs": [],
   "source": [
    "# undersampling undeltad observations:"
   ]
  },
  {
   "cell_type": "code",
   "execution_count": null,
   "metadata": {},
   "outputs": [],
   "source": []
  },
  {
   "cell_type": "code",
   "execution_count": 214,
   "metadata": {},
   "outputs": [],
   "source": [
    "from sklearn.metrics import confusion_matrix, roc_auc_score"
   ]
  },
  {
   "cell_type": "code",
   "execution_count": 215,
   "metadata": {},
   "outputs": [],
   "source": [
    "from sklearn.svm import SVC"
   ]
  },
  {
   "cell_type": "code",
   "execution_count": 230,
   "metadata": {},
   "outputs": [
    {
     "data": {
      "text/plain": [
       "SVC(C=1.0, cache_size=200, class_weight='balanced', coef0=0.0,\n",
       "  decision_function_shape='ovr', degree=3, gamma='auto', kernel='rbf',\n",
       "  max_iter=-1, probability=False, random_state=42, shrinking=True,\n",
       "  tol=0.001, verbose=False)"
      ]
     },
     "execution_count": 230,
     "metadata": {},
     "output_type": "execute_result"
    }
   ],
   "source": [
    "svc_model = SVC(class_weight='balanced', random_state=42)\n",
    "svc_model.fit(reduced_train_texts, train_doc_labels)"
   ]
  },
  {
   "cell_type": "code",
   "execution_count": 231,
   "metadata": {},
   "outputs": [
    {
     "name": "stdout",
     "output_type": "stream",
     "text": [
      "[[   0 2720]\n",
      " [   0  391]]\n"
     ]
    }
   ],
   "source": [
    "predicted_doc_labels = svc_model.predict(reduced_test_texts)\n",
    "conf_mat = confusion_matrix(test_doc_labels, predicted_doc_labels)\n",
    "print(conf_mat)"
   ]
  },
  {
   "cell_type": "code",
   "execution_count": 232,
   "metadata": {},
   "outputs": [
    {
     "name": "stdout",
     "output_type": "stream",
     "text": [
      "mean accuracy is 0.12568306010928962\n"
     ]
    }
   ],
   "source": [
    "print('mean accuracy is {}'.format(svc_model.score(reduced_test_texts, test_doc_labels)))"
   ]
  },
  {
   "cell_type": "code",
   "execution_count": 219,
   "metadata": {},
   "outputs": [],
   "source": [
    "from xgboost import XGBClassifier"
   ]
  },
  {
   "cell_type": "code",
   "execution_count": 227,
   "metadata": {},
   "outputs": [
    {
     "data": {
      "text/plain": [
       "XGBClassifier(base_score=0.5, booster='gbtree', colsample_bylevel=1,\n",
       "       colsample_bytree=1, gamma=0, learning_rate=0.1, max_delta_step=0,\n",
       "       max_depth=3, min_child_weight=1, missing=None, n_estimators=100,\n",
       "       n_jobs=1, nthread=None, objective='binary:logistic', random_state=0,\n",
       "       reg_alpha=0, reg_lambda=1, scale_pos_weight=7, seed=None,\n",
       "       silent=True, subsample=1)"
      ]
     },
     "execution_count": 227,
     "metadata": {},
     "output_type": "execute_result"
    }
   ],
   "source": [
    "xg_model = XGBClassifier(scale_pos_weight=7)\n",
    "xg_model.fit(reduced_train_texts, train_doc_labels)"
   ]
  },
  {
   "cell_type": "code",
   "execution_count": 228,
   "metadata": {},
   "outputs": [
    {
     "name": "stdout",
     "output_type": "stream",
     "text": [
      "train set mean accuracy is 0.680032141422258\n"
     ]
    },
    {
     "name": "stderr",
     "output_type": "stream",
     "text": [
      "/home/eleanor/anaconda3/lib/python3.6/site-packages/sklearn/preprocessing/label.py:151: DeprecationWarning: The truth value of an empty array is ambiguous. Returning False, but in future this will result in an error. Use `array.size > 0` to check that an array is not empty.\n",
      "  if diff:\n"
     ]
    }
   ],
   "source": [
    "print('train set mean accuracy is {}'.format(xg_model.score(reduced_train_texts, train_doc_labels)))\n"
   ]
  },
  {
   "cell_type": "code",
   "execution_count": 229,
   "metadata": {},
   "outputs": [
    {
     "name": "stdout",
     "output_type": "stream",
     "text": [
      "mean accuracy is 0.6570234651237544\n",
      "[[1857  863]\n",
      " [ 204  187]]\n"
     ]
    },
    {
     "name": "stderr",
     "output_type": "stream",
     "text": [
      "/home/eleanor/anaconda3/lib/python3.6/site-packages/sklearn/preprocessing/label.py:151: DeprecationWarning: The truth value of an empty array is ambiguous. Returning False, but in future this will result in an error. Use `array.size > 0` to check that an array is not empty.\n",
      "  if diff:\n",
      "/home/eleanor/anaconda3/lib/python3.6/site-packages/sklearn/preprocessing/label.py:151: DeprecationWarning: The truth value of an empty array is ambiguous. Returning False, but in future this will result in an error. Use `array.size > 0` to check that an array is not empty.\n",
      "  if diff:\n"
     ]
    }
   ],
   "source": [
    "print('mean accuracy is {}'.format(xg_model.score(reduced_test_texts, test_doc_labels)))\n",
    "predicted_doc_labels = xg_model.predict(reduced_test_texts)\n",
    "conf_mat = confusion_matrix(test_doc_labels, predicted_doc_labels)\n",
    "print(conf_mat)"
   ]
  },
  {
   "cell_type": "code",
   "execution_count": 76,
   "metadata": {},
   "outputs": [],
   "source": [
    "#from sklearn.cluster import DBSCAN"
   ]
  },
  {
   "cell_type": "code",
   "execution_count": 77,
   "metadata": {},
   "outputs": [],
   "source": [
    "#dbscan_model = DBSCAN(eps=0.5, min_samples=5, metric=’euclidean’, metric_params=None, algorithm=’auto’, leaf_size=30, p=None, n_jobs=1)"
   ]
  },
  {
   "cell_type": "code",
   "execution_count": 33,
   "metadata": {},
   "outputs": [],
   "source": [
    "#from sklearn.linear_model import LogisticRegression"
   ]
  },
  {
   "cell_type": "code",
   "execution_count": 34,
   "metadata": {},
   "outputs": [
    {
     "data": {
      "text/plain": [
       "LogisticRegression(C=1.0, class_weight='balanced', dual=False,\n",
       "          fit_intercept=True, intercept_scaling=1, max_iter=100,\n",
       "          multi_class='ovr', n_jobs=1, penalty='l2', random_state=42,\n",
       "          solver='liblinear', tol=0.0001, verbose=0, warm_start=False)"
      ]
     },
     "execution_count": 34,
     "metadata": {},
     "output_type": "execute_result"
    }
   ],
   "source": [
    "#logreg = LogisticRegression(random_state=42, class_weight='balanced')\n",
    "#logreg.fit(reduced_train_posts, train_post_labels)"
   ]
  },
  {
   "cell_type": "code",
   "execution_count": 35,
   "metadata": {},
   "outputs": [],
   "source": [
    "#predicted_test_labels = logreg.predict(reduced_test_posts)"
   ]
  },
  {
   "cell_type": "code",
   "execution_count": 38,
   "metadata": {},
   "outputs": [
    {
     "name": "stdout",
     "output_type": "stream",
     "text": [
      "mean accuracy is 0.6362240982348427\n",
      "[[787 287]\n",
      " [187  42]]\n"
     ]
    }
   ],
   "source": [
    "#print('mean accuracy is {}'.format(logreg.score(reduced_test_posts, test_post_labels)))\n",
    "#conf_mat = confusion_matrix(test_post_labels, predicted_test_labels)\n",
    "#print(conf_mat)"
   ]
  },
  {
   "cell_type": "code",
   "execution_count": null,
   "metadata": {},
   "outputs": [],
   "source": []
  }
 ],
 "metadata": {
  "kernelspec": {
   "display_name": "Python 3",
   "language": "python",
   "name": "python3"
  },
  "language_info": {
   "codemirror_mode": {
    "name": "ipython",
    "version": 3
   },
   "file_extension": ".py",
   "mimetype": "text/x-python",
   "name": "python",
   "nbconvert_exporter": "python",
   "pygments_lexer": "ipython3",
   "version": "3.6.6"
  }
 },
 "nbformat": 4,
 "nbformat_minor": 2
}
