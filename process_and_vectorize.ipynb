{
 "cells": [
  {
   "cell_type": "code",
   "execution_count": 1,
   "metadata": {},
   "outputs": [
    {
     "name": "stderr",
     "output_type": "stream",
     "text": [
      "/home/eleanor/anaconda3/lib/python3.6/importlib/_bootstrap.py:219: RuntimeWarning: numpy.dtype size changed, may indicate binary incompatibility. Expected 96, got 88\n",
      "  return f(*args, **kwds)\n",
      "/home/eleanor/anaconda3/lib/python3.6/importlib/_bootstrap.py:219: RuntimeWarning: numpy.ufunc size changed, may indicate binary incompatibility. Expected 192, got 176\n",
      "  return f(*args, **kwds)\n",
      "/home/eleanor/anaconda3/lib/python3.6/importlib/_bootstrap.py:219: RuntimeWarning: numpy.dtype size changed, may indicate binary incompatibility. Expected 96, got 88\n",
      "  return f(*args, **kwds)\n",
      "/home/eleanor/anaconda3/lib/python3.6/importlib/_bootstrap.py:219: RuntimeWarning: numpy.ufunc size changed, may indicate binary incompatibility. Expected 192, got 176\n",
      "  return f(*args, **kwds)\n"
     ]
    }
   ],
   "source": [
    "from utils import *\n",
    "import numpy as np\n",
    "import pandas as pd\n",
    "import matplotlib.pyplot as plt\n",
    "import string\n",
    "import pickle\n",
    "#import sys\n",
    "from nltk.corpus import stopwords\n",
    "from sklearn.feature_extraction.text import CountVectorizer\n",
    "\n",
    "from pymongo import MongoClient"
   ]
  },
  {
   "cell_type": "code",
   "execution_count": 2,
   "metadata": {},
   "outputs": [],
   "source": [
    "client = MongoClient()\n",
    "db = client.cmv\n",
    "posts_collection = db.posts\n",
    "tl_comments_collection = db.tl_comments\n",
    "deltad_replies_collection = db.deltad_replies"
   ]
  },
  {
   "cell_type": "code",
   "execution_count": 3,
   "metadata": {},
   "outputs": [],
   "source": [
    "random_state = 42"
   ]
  },
  {
   "cell_type": "code",
   "execution_count": null,
   "metadata": {},
   "outputs": [],
   "source": []
  },
  {
   "cell_type": "code",
   "execution_count": 4,
   "metadata": {},
   "outputs": [],
   "source": [
    "# establish the set of texts to use (ie posts vs comments)\n",
    "doctype = 'post'"
   ]
  },
  {
   "cell_type": "code",
   "execution_count": 5,
   "metadata": {},
   "outputs": [
    {
     "name": "stdout",
     "output_type": "stream",
     "text": [
      "processing post 0\n",
      "processing post 50\n",
      "processing post 100\n",
      "processing post 150\n",
      "processing post 200\n",
      "processing post 250\n",
      "processing post 300\n",
      "processing post 350\n",
      "processing post 400\n",
      "processing post 450\n",
      "processing post 500\n",
      "processing post 550\n",
      "processing post 600\n",
      "processing post 650\n",
      "processing post 700\n",
      "processing post 750\n",
      "processing post 800\n",
      "processing post 850\n",
      "processing post 900\n",
      "processing post 950\n",
      "processing post 1000\n",
      "processing post 1050\n",
      "processing post 1100\n",
      "processing post 1150\n",
      "processing post 1200\n",
      "processing post 1250\n",
      "processing post 1300\n",
      "processing post 1350\n",
      "processing post 1400\n",
      "processing post 1450\n",
      "processing post 1500\n",
      "processing post 1550\n",
      "processing post 1600\n",
      "processing post 1650\n",
      "processing post 1700\n",
      "processing post 1750\n",
      "processing post 1800\n",
      "processing post 1850\n",
      "processing post 1900\n",
      "processing post 1950\n",
      "processing post 2000\n",
      "processing post 2050\n",
      "processing post 2100\n",
      "processing post 2150\n",
      "processing post 2200\n",
      "processing post 2250\n",
      "processing post 2300\n",
      "processing post 2350\n",
      "processing post 2400\n",
      "processing post 2450\n",
      "processing post 2500\n",
      "processing post 2550\n",
      "processing post 2600\n",
      "processing post 2650\n"
     ]
    }
   ],
   "source": [
    "deltad_docs, undeltad_docs = get_docs(posts_collection, tl_comments_collection,\n",
    "                                      key_phrase_exists=True)"
   ]
  },
  {
   "cell_type": "code",
   "execution_count": 6,
   "metadata": {},
   "outputs": [],
   "source": [
    "train_docs, test_docs, val_docs = doc_split(deltad_docs, undeltad_docs, rand_state=random_state)\n",
    "deltad_docs=[]\n",
    "undeltad_docs=[]"
   ]
  },
  {
   "cell_type": "code",
   "execution_count": 7,
   "metadata": {},
   "outputs": [
    {
     "data": {
      "text/plain": [
       "20057"
      ]
     },
     "execution_count": 7,
     "metadata": {},
     "output_type": "execute_result"
    }
   ],
   "source": [
    "len(train_docs)"
   ]
  },
  {
   "cell_type": "code",
   "execution_count": 8,
   "metadata": {},
   "outputs": [
    {
     "data": {
      "text/plain": [
       "6686"
      ]
     },
     "execution_count": 8,
     "metadata": {},
     "output_type": "execute_result"
    }
   ],
   "source": [
    "len(test_docs)"
   ]
  },
  {
   "cell_type": "code",
   "execution_count": 9,
   "metadata": {},
   "outputs": [
    {
     "data": {
      "text/plain": [
       "6685"
      ]
     },
     "execution_count": 9,
     "metadata": {},
     "output_type": "execute_result"
    }
   ],
   "source": [
    "len(val_docs)"
   ]
  },
  {
   "cell_type": "code",
   "execution_count": 11,
   "metadata": {},
   "outputs": [],
   "source": [
    "train_comment_ids, train_comment_texts, train_labels, train_post_ids, train_post_texts = get_fields(train_docs)\n",
    "test_comment_ids, test_comment_texts, test_labels, test_post_ids, test_post_texts = get_fields(test_docs)\n",
    "val_comment_ids, val_comment_texts, val_labels, val_posts_ids, val_post_texts = get_fields(val_docs)"
   ]
  },
  {
   "cell_type": "code",
   "execution_count": 5,
   "metadata": {},
   "outputs": [],
   "source": [
    "trainfile = 'train.pickle'\n",
    "testfile = 'test.pickle'\n",
    "valfile = 'val.pickle'"
   ]
  },
  {
   "cell_type": "code",
   "execution_count": 12,
   "metadata": {},
   "outputs": [],
   "source": [
    "with open(trainfile, 'wb') as f:\n",
    "    pickle.dump((train_comment_ids, train_comment_texts, train_labels, train_post_ids, train_post_texts), f)\n",
    "with open(testfile, 'wb') as f:\n",
    "    pickle.dump((test_comment_ids, test_comment_texts, test_labels, test_post_ids, test_post_texts), f)\n",
    "with open(valfile, 'wb') as f:\n",
    "    pickle.dump((val_comment_ids, val_comment_texts, val_labels, val_posts_ids, val_post_texts), f)"
   ]
  },
  {
   "cell_type": "markdown",
   "metadata": {},
   "source": [
    "## Unsupervised Topic Extraction with PyTextRank"
   ]
  },
  {
   "cell_type": "code",
   "execution_count": 13,
   "metadata": {},
   "outputs": [],
   "source": [
    "# strip unnecessary punctuation from selects 'id' and 'text' fields from docs\n",
    "train_dicts = get_ptr_dicts(train_docs)"
   ]
  },
  {
   "cell_type": "code",
   "execution_count": null,
   "metadata": {},
   "outputs": [],
   "source": [
    "train_docs = None\n",
    "test_docs = None\n",
    "val_docs = None"
   ]
  },
  {
   "cell_type": "code",
   "execution_count": 20,
   "metadata": {},
   "outputs": [],
   "source": [
    "from utils import insert_key_phrases_into_db"
   ]
  },
  {
   "cell_type": "code",
   "execution_count": 21,
   "metadata": {},
   "outputs": [
    {
     "name": "stdout",
     "output_type": "stream",
     "text": [
      "processing 0 of 2 documents\n"
     ]
    },
    {
     "name": "stderr",
     "output_type": "stream",
     "text": [
      "/home/eleanor/anaconda3/lib/python3.6/importlib/_bootstrap.py:219: RuntimeWarning: numpy.dtype size changed, may indicate binary incompatibility. Expected 96, got 88\n",
      "  return f(*args, **kwds)\n",
      "/home/eleanor/anaconda3/lib/python3.6/importlib/_bootstrap.py:219: RuntimeWarning: numpy.ufunc size changed, may indicate binary incompatibility. Expected 192, got 176\n",
      "  return f(*args, **kwds)\n"
     ]
    }
   ],
   "source": [
    "insert_key_phrases_into_db(train_dicts[0:2], doctype='comment', collection=tl_comments_collection)"
   ]
  },
  {
   "cell_type": "markdown",
   "metadata": {},
   "source": [
    "## Vectorize documents using Key Phrases from PyTextRank"
   ]
  },
  {
   "cell_type": "code",
   "execution_count": 18,
   "metadata": {},
   "outputs": [
    {
     "name": "stdout",
     "output_type": "stream",
     "text": [
      "18852 unique key phrases from 2120 documents\n",
      "67194 unique key phrases from 20057 documents\n"
     ]
    }
   ],
   "source": [
    "post_key_phrases = kparray=get_all_key_phrases(posts_collection, 'post', train_post_ids)\n",
    "comment_key_phrases = kparray=get_all_key_phrases(tl_comments_collection, 'comment', train_comment_ids)\n",
    "all_key_phrases = np.union1d(post_key_phrases, comment_key_phrases)\n",
    "post_key_phrases = []\n",
    "comment_key_phrases = []\n",
    "len(all_key_phrases)"
   ]
  },
  {
   "cell_type": "code",
   "execution_count": 19,
   "metadata": {},
   "outputs": [],
   "source": [
    "with open('all_key_phrases.pickle', 'wb') as f:\n",
    "    pickle.dump(all_key_phrases, f)"
   ]
  },
  {
   "cell_type": "code",
   "execution_count": 21,
   "metadata": {},
   "outputs": [],
   "source": [
    "train_labels = 0\n",
    "test_comment_ids, test_comment_texts, test_labels, test_post_ids, test_post_texts = (None, None, None, None, None)\n",
    "val_comment_ids, val_comment_texts, val_labels, val_posts_ids, val_post_texts = (None, None, None, None, None)"
   ]
  },
  {
   "cell_type": "code",
   "execution_count": 10,
   "metadata": {},
   "outputs": [],
   "source": [
    "def clean_text(texts):\n",
    "    '''\n",
    "    Takes in list of text strings to tokenize, returns cleaned texts,\n",
    "    with all punctuation and digits stripped and all characters converted to lowercase\n",
    "    '''\n",
    "    cleaned_texts = []\n",
    "    for text in texts:\n",
    "        #strip punctuation and digits from whole text\n",
    "        to_replace = [punc for punc in string.punctuation+string.digits if punc!=\"'\"]\n",
    "        translate_dict = {key: ' ' for key in to_replace}\n",
    "        translate_dict[\"'\"] = ''\n",
    "        replacement_table = str.maketrans(translate_dict)\n",
    "        stripped_text = text.translate(replacement_table)\n",
    "        #lower case text\n",
    "        lowered_text = stripped_text.lower()\n",
    "        cleaned_texts.append(lowered_text)\n",
    "    return cleaned_texts"
   ]
  },
  {
   "cell_type": "code",
   "execution_count": 12,
   "metadata": {},
   "outputs": [],
   "source": [
    "# train\n",
    "train_comment_texts = clean_text(train_comment_texts)"
   ]
  },
  {
   "cell_type": "code",
   "execution_count": 6,
   "metadata": {},
   "outputs": [],
   "source": [
    "with open('all_key_phrases.pickle', 'rb') as f:\n",
    "    all_key_phrases = pickle.load(f)"
   ]
  },
  {
   "cell_type": "code",
   "execution_count": 7,
   "metadata": {},
   "outputs": [],
   "source": [
    "my_vectorizer = CountVectorizer(vocabulary=all_key_phrases, ngram_range=(1,3))"
   ]
  },
  {
   "cell_type": "code",
   "execution_count": 13,
   "metadata": {},
   "outputs": [],
   "source": [
    "train_comment_texts = my_vectorizer.fit_transform(train_comment_texts)"
   ]
  },
  {
   "cell_type": "code",
   "execution_count": 14,
   "metadata": {},
   "outputs": [
    {
     "data": {
      "text/plain": [
       "78167"
      ]
     },
     "execution_count": 14,
     "metadata": {},
     "output_type": "execute_result"
    }
   ],
   "source": [
    "col_sums = train_comment_texts.sum(axis=0).A\n",
    "col_sums=col_sums.tolist()[0]\n",
    "len(col_sums)"
   ]
  },
  {
   "cell_type": "code",
   "execution_count": 15,
   "metadata": {},
   "outputs": [],
   "source": [
    "sorted_labeled_cols = sorted(list(zip(all_key_phrases,col_sums)), key= lambda x: x[1], reverse=True)\n",
    "col_sums = None"
   ]
  },
  {
   "cell_type": "code",
   "execution_count": 16,
   "metadata": {},
   "outputs": [],
   "source": [
    "filtered_labeled_cols = list(filter(lambda x: x[0] not in set(stopwords.words('english')), sorted_labeled_cols))\n",
    "sorted_labeled_cols = None"
   ]
  },
  {
   "cell_type": "code",
   "execution_count": 185,
   "metadata": {},
   "outputs": [],
   "source": []
  },
  {
   "cell_type": "code",
   "execution_count": 219,
   "metadata": {},
   "outputs": [
    {
     "data": {
      "text/plain": [
       "<matplotlib.collections.PathCollection at 0x7f6f8f6e0160>"
      ]
     },
     "execution_count": 219,
     "metadata": {},
     "output_type": "execute_result"
    },
    {
     "data": {
      "image/png": "[encoded data removed]",
      "text/plain": [
       "<Figure size 432x288 with 1 Axes>"
      ]
     },
     "metadata": {},
     "output_type": "display_data"
    }
   ],
   "source": [
    "\n",
    "%matplotlib inline\n",
    "plt.scatter(range(len(filtered_labeled_cols[0:5000])), [x[1] for x in filtered_labeled_cols[0:5000]])"
   ]
  },
  {
   "cell_type": "code",
   "execution_count": 17,
   "metadata": {},
   "outputs": [],
   "source": [
    "#remove 'people' and 'one', keep remaining top 5000\n",
    "phrases_to_keep = [x[0] for x in filtered_labeled_cols[0:3002]]\n",
    "phrases_to_keep.remove(filtered_labeled_cols[0][0])\n",
    "phrases_to_keep.remove(filtered_labeled_cols[1][0])"
   ]
  },
  {
   "cell_type": "code",
   "execution_count": 32,
   "metadata": {},
   "outputs": [],
   "source": [
    "filtered_labeled_cols = 0"
   ]
  },
  {
   "cell_type": "code",
   "execution_count": 8,
   "metadata": {},
   "outputs": [],
   "source": [
    "# train\n",
    "with open(trainfile, 'rb') as f:\n",
    "    (train_comment_ids, train_comment_texts, train_labels, train_post_ids, train_post_texts) = pickle.load(f)"
   ]
  },
  {
   "cell_type": "code",
   "execution_count": 18,
   "metadata": {},
   "outputs": [],
   "source": [
    "train_comment_texts = pd.SparseDataFrame(train_comment_texts, columns=all_key_phrases)"
   ]
  },
  {
   "cell_type": "code",
   "execution_count": 19,
   "metadata": {},
   "outputs": [],
   "source": [
    "# train\n",
    "train_comment_texts.drop([x for x in train_comment_texts.columns if x not in phrases_to_keep], axis=1, inplace=True)"
   ]
  },
  {
   "cell_type": "code",
   "execution_count": 22,
   "metadata": {},
   "outputs": [],
   "source": [
    "train_comment_df_filename='train_comment_df.pickle'\n",
    "with open(train_comment_df_filename, 'wb') as f:\n",
    "    pickle.dump(train_comment_texts, f)\n",
    "    \n",
    "train_comment_ids, train_comment_texts, train_labels = (None, None, None)"
   ]
  },
  {
   "cell_type": "code",
   "execution_count": 23,
   "metadata": {},
   "outputs": [],
   "source": [
    "train_post_texts = clean_text(train_post_texts)"
   ]
  },
  {
   "cell_type": "code",
   "execution_count": 24,
   "metadata": {},
   "outputs": [],
   "source": [
    "train_post_texts = my_vectorizer.transform(train_post_texts)"
   ]
  },
  {
   "cell_type": "code",
   "execution_count": 25,
   "metadata": {},
   "outputs": [],
   "source": [
    "train_post_texts = pd.SparseDataFrame(train_post_texts, columns=all_key_phrases)"
   ]
  },
  {
   "cell_type": "code",
   "execution_count": 26,
   "metadata": {},
   "outputs": [],
   "source": [
    "train_post_texts.drop([x for x in train_post_texts.columns if x not in phrases_to_keep], axis=1, inplace=True)"
   ]
  },
  {
   "cell_type": "code",
   "execution_count": 262,
   "metadata": {},
   "outputs": [],
   "source": [
    "train_post_df_filename='train_post_df.pickle'\n",
    "with open(train_post_df_filename), wb) as f:\n",
    "    pickle.dump(train_post_texts, f)\n",
    "    \n",
    "train_post_ids, train_post_texts = (None,None)"
   ]
  },
  {
   "cell_type": "code",
   "execution_count": 31,
   "metadata": {},
   "outputs": [],
   "source": [
    "# test\n",
    "with open(testfile, 'rb') as f:\n",
    "    (test_comment_ids, test_comment_texts, test_labels, test_post_ids, test_post_texts) = pickle.load(f)"
   ]
  },
  {
   "cell_type": "code",
   "execution_count": 32,
   "metadata": {},
   "outputs": [],
   "source": [
    "test_comment_texts = clean_text(test_comment_texts)"
   ]
  },
  {
   "cell_type": "code",
   "execution_count": 33,
   "metadata": {},
   "outputs": [],
   "source": [
    "test_comment_texts = my_vectorizer.transform(test_comment_texts)"
   ]
  },
  {
   "cell_type": "code",
   "execution_count": 34,
   "metadata": {},
   "outputs": [],
   "source": [
    "test_comment_texts = pd.SparseDataFrame(test_comment_texts, columns=all_key_phrases)\n",
    "test_comment_texts.drop([x for x in test_comment_texts.columns if x not in phrases_to_keep], axis=1, inplace=True)"
   ]
  },
  {
   "cell_type": "code",
   "execution_count": 37,
   "metadata": {},
   "outputs": [],
   "source": [
    "test_comment_df_filename='test_comment_df.pickle'\n",
    "with open(test_comment_df_filename, 'wb') as f:\n",
    "    pickle.dump(test_comment_texts, f)\n",
    "\n",
    "test_comment_ids, test_comment_texts, test_labels = (None, None, None)"
   ]
  },
  {
   "cell_type": "code",
   "execution_count": 38,
   "metadata": {},
   "outputs": [],
   "source": [
    "test_post_texts = clean_text(test_post_texts)"
   ]
  },
  {
   "cell_type": "code",
   "execution_count": 39,
   "metadata": {},
   "outputs": [],
   "source": [
    "test_post_texts = my_vectorizer.transform(test_post_texts)"
   ]
  },
  {
   "cell_type": "code",
   "execution_count": 40,
   "metadata": {},
   "outputs": [],
   "source": [
    "test_post_texts = pd.SparseDataFrame(test_post_texts, columns=all_key_phrases)\n",
    "test_post_texts.drop([x for x in test_post_texts.columns if x not in phrases_to_keep], axis=1, inplace=True)"
   ]
  },
  {
   "cell_type": "code",
   "execution_count": 41,
   "metadata": {},
   "outputs": [],
   "source": [
    "test_post_df_filename='test_post_df.pickle'\n",
    "with open(test_post_df_filename, 'wb') as f:\n",
    "    pickle.dump(test_post_texts, f)\n",
    "    \n",
    "test_post_ids, test_post_texts = (None, None)"
   ]
  },
  {
   "cell_type": "code",
   "execution_count": 42,
   "metadata": {},
   "outputs": [],
   "source": [
    "# validation set\n",
    "with open(valfile, 'rb') as f:\n",
    "    (val_comment_ids, val_comment_texts, val_labels, val_posts_ids, val_post_texts) = pickle.load(f)"
   ]
  },
  {
   "cell_type": "code",
   "execution_count": 43,
   "metadata": {},
   "outputs": [],
   "source": [
    "val_comment_texts = clean_text(val_comment_texts)"
   ]
  },
  {
   "cell_type": "code",
   "execution_count": 44,
   "metadata": {},
   "outputs": [],
   "source": [
    "val_comment_texts = my_vectorizer.transform(val_comment_texts)"
   ]
  },
  {
   "cell_type": "code",
   "execution_count": 45,
   "metadata": {},
   "outputs": [],
   "source": [
    "val_comment_texts = pd.SparseDataFrame(val_comment_texts, columns=all_key_phrases)\n",
    "val_comment_texts.drop([x for x in val_comment_texts.columns if x not in phrases_to_keep], axis=1, inplace=True)"
   ]
  },
  {
   "cell_type": "code",
   "execution_count": 46,
   "metadata": {},
   "outputs": [],
   "source": [
    "val_comment_df_filename='val_comment_df.pickle'\n",
    "with open(val_comment_df_filename, 'wb') as f:\n",
    "    pickle.dump(val_comment_texts, f)\n",
    "    \n",
    "val_comment_ids, val_comment_texts, val_labels, = (None, None, None)"
   ]
  },
  {
   "cell_type": "code",
   "execution_count": 47,
   "metadata": {},
   "outputs": [],
   "source": [
    "val_post_texts = clean_text(val_post_texts)"
   ]
  },
  {
   "cell_type": "code",
   "execution_count": 48,
   "metadata": {},
   "outputs": [],
   "source": [
    "val_post_texts = my_vectorizer.transform(val_post_texts)"
   ]
  },
  {
   "cell_type": "code",
   "execution_count": 49,
   "metadata": {},
   "outputs": [],
   "source": [
    "val_post_texts = pd.SparseDataFrame(val_post_texts, columns=all_key_phrases)\n",
    "val_post_texts.drop([x for x in val_post_texts.columns if x not in phrases_to_keep], axis=1, inplace=True)"
   ]
  },
  {
   "cell_type": "code",
   "execution_count": 51,
   "metadata": {},
   "outputs": [],
   "source": [
    "val_post_df_filename='val_post_df.pickle'\n",
    "with open(val_post_df_filename, 'wb') as f:\n",
    "    pickle.dump(val_post_texts, f)\n",
    "    \n",
    "val_posts_ids, val_post_texts = (None, None)"
   ]
  },
  {
   "cell_type": "code",
   "execution_count": null,
   "metadata": {},
   "outputs": [],
   "source": [
    "# transform test, val comment sets and all post sets\n",
    "# cut down all matrices based on filter\n",
    "# concatenate comment/post arrays for train, test, val\n",
    "# pickle arrays and/or insert into tl_comments_collection or new collection"
   ]
  },
  {
   "cell_type": "code",
   "execution_count": null,
   "metadata": {},
   "outputs": [],
   "source": [
    "\n",
    "#vectorized_test_comments = my_vectorizer.transform(cleaned_test_comments)"
   ]
  }
 ],
 "metadata": {
  "kernelspec": {
   "display_name": "Python 3",
   "language": "python",
   "name": "python3"
  },
  "language_info": {
   "codemirror_mode": {
    "name": "ipython",
    "version": 3
   },
   "file_extension": ".py",
   "mimetype": "text/x-python",
   "name": "python",
   "nbconvert_exporter": "python",
   "pygments_lexer": "ipython3",
   "version": "3.6.6"
  }
 },
 "nbformat": 4,
 "nbformat_minor": 2
}
